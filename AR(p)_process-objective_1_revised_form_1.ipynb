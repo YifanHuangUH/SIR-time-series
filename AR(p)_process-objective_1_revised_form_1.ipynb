{
 "cells": [
  {
   "cell_type": "code",
   "execution_count": 1,
   "id": "9cc7b0ea-2c40-4be6-892d-91317dc62e81",
   "metadata": {},
   "outputs": [],
   "source": [
    "def sir_11(X, y, num_slices, K):\n",
    "    X = X - np.mean(X, axis = 0)\n",
    "    n_samples, n_features = X.shape\n",
    "    V_hat = np.zeros([X.shape[1], X.shape[1]])\n",
    "    # Step 1: Sort the data by the response variable\n",
    "    sorted_indices = np.argsort(y)\n",
    "    X_sorted = X[sorted_indices]\n",
    "    y_sorted = y[sorted_indices]\n",
    "    # Step 2: Divide the data into slices\n",
    "    slice_size = n_samples // num_slices\n",
    "    ph_hat = slice_size/n_samples\n",
    "    slices = []\n",
    "    for i in range(num_slices):\n",
    "        start_idx = i * slice_size\n",
    "        if i < num_slices - 1:\n",
    "            end_idx = (i + 1) * slice_size\n",
    "        else:  # Last slice includes any remaining samples\n",
    "            end_idx = n_samples\n",
    "        slices.append((X_sorted[start_idx:end_idx], y_sorted[start_idx:end_idx]))\n",
    "    \n",
    "    # Step 3: Compute the means of the predictors within each slice\n",
    "    X_means = np.array([np.mean(slice_X, axis=0) for slice_X, _ in slices])\n",
    "    \n",
    "    # Step 4: Center the predictor means\n",
    "    # X_centered = (X_means - np.mean(X, axis=0))\n",
    "    X_centered = X_means - np.mean(X, axis=0)\n",
    "    \n",
    "    V_hat = np.add(V_hat,ph_hat * np.matmul(X_centered.T, X_centered))\n",
    "    min_val = np.min(V_hat)\n",
    "    max_val = np.max(V_hat)\n",
    "    V_hat = V_hat / max_val\n",
    "    \n",
    "    eigenvalues, eigenvectors = np.linalg.eig(V_hat)\n",
    "    K_index = np.argpartition(np.abs(eigenvalues), X.shape[1]-K) >= X.shape[1]-K\n",
    "    K_largest_eigenvectors = eigenvectors[:, K_index]\n",
    "    edr_est =  K_largest_eigenvectors\n",
    "    return edr_est, V_hat"
   ]
  },
  {
   "cell_type": "code",
   "execution_count": 2,
   "id": "add02f08-f19b-497f-98bd-14d2f8ff8450",
   "metadata": {},
   "outputs": [],
   "source": [
    "#add risk to be averaged over replicas, add prediction error for obj2 for averaged direction\n",
    "from tabulate import tabulate\n",
    "import numpy as np\n",
    "from sklearn.preprocessing import StandardScaler\n",
    "import matplotlib.pyplot as plt\n",
    "from sklearn.model_selection import train_test_split\n",
    "from sklearn.linear_model import LinearRegression\n",
    "from sklearn.metrics import mean_squared_error, mean_absolute_error\n",
    "def ave(arr, N):\n",
    "    for i in range(len(arr)):\n",
    "        arr[i] = arr[i]/N \n",
    "    return arr \n",
    "def compute_eigen(Q4, P, K):\n",
    "    eigenvalues2, eigenvectors2 = np.linalg.eig(Q4)\n",
    "    K_index = np.argpartition(np.abs(eigenvalues2), P - K) >= P - K\n",
    "    K_largest_eigenvectors = eigenvectors2[:, K_index]\n",
    "    edr_est = K_largest_eigenvectors  \n",
    "    if edr_est[0] < 0:\n",
    "        edr_est = -edr_est\n",
    "    edr_est = edr_est / np.linalg.norm(edr_est)\n",
    "    return edr_est\n",
    "    \n",
    "def proj(edr_est): \n",
    "    E = edr_est @ np.linalg.inv(edr_est.T @ edr_est) @ edr_est.T\n",
    "    return E\n",
    "\n",
    "def exhi(obj1):        \n",
    "    array1 = np.vectorize(lambda x: f\"{x:.6f}\")(obj1)\n",
    "    table = tabulate(array1, tablefmt='latex_raw')\n",
    "    # Split the table into lines\n",
    "    lines = table.split('\\n')\n",
    "    # Insert \\hline after each row\n",
    "    latex_table = '\\n'.join([line + (' \\\\hline' if (idx > 1) else '') for idx, line in enumerate(lines)])\n",
    "    print(latex_table)\n",
    "    \n",
    "def MSE(X, y):\n",
    "    # Split data into training and test sets\n",
    "    X_train, X_test, y_train, y_test = train_test_split(X, y, test_size=0.2, random_state=42)\n",
    "    # Create and train the model\n",
    "    model = LinearRegression()\n",
    "    model.fit(X_train, y_train)\n",
    "    # Make predictions\n",
    "    y_pred = model.predict(X_test)\n",
    "    # Calculate errors\n",
    "    mse = mean_squared_error(y_test, y_pred)\n",
    "    return mse\n",
    "\n",
    "def TestAR2(ar_coeff, a1, a2, initial_value, n_gene, n_obs, H, S, n_rep):\n",
    "    ARnum = 2; num_N = 5;P = 4;K = 1;n1 = 0;l = 1; p = 2; P1 = 2*P; AR = initial_value\n",
    "    noise1 = np.zeros((num_N, n_gene))\n",
    "    noise2 = np.zeros((num_N, n_obs+S+3))\n",
    "    y = [np.zeros((num_N, n_obs+i)) for i in range(S)]\n",
    "    X1 = [[np.zeros((num_N, 2*n_obs)) for i in range(P)] for i in range(S)]\n",
    "    obj_1 = [np.zeros((P, 1)) for _ in range(S)]  \n",
    "    obj_2 = [np.zeros((P1, 1)) for _ in range(S)]  \n",
    "    \n",
    "    prediction_mse_1_1 = [np.zeros((1, 1)) for _ in range(S)]\n",
    "    prediction_mse_1_2 = [np.zeros((1, 1)) for _ in range(S)]\n",
    "    \n",
    "    prediction_mse_2 = [np.zeros((1, 1)) for _ in range(S)]\n",
    "    M = [np.zeros((P, 1)) for _ in range(S)] \n",
    "    proj_error_1_1 = [np.zeros((1, )) for _ in range(S)] \n",
    "    proj_error_1_2 = [np.zeros((1, )) for _ in range(S)]\n",
    "    \n",
    "    proj_error_2 = [np.zeros((1, )) for _ in range(S)] \n",
    "    # error_1_1 is for dim 2p, error_1_2 is for dim p\n",
    "    error_1_1 = [np.zeros((1, )) for _ in range(S)]\n",
    "    error_1_2 = [np.zeros((1, )) for _ in range(S)]\n",
    "    \n",
    "    error_2 = [np.zeros((1, )) for _ in range(S)]\n",
    "    g = np.zeros((S, 1))\n",
    "    g1 = np.zeros((S, 1))\n",
    "    g2 = np.zeros((S, 1))\n",
    "    projection_1_norm = np.zeros((S, 1))\n",
    "    projection_2_norm = np.zeros((S, 1))\n",
    "    # True_projection for 2p and p\n",
    "    True_projection_2p = np.array([[2],[3],[0],[0],[2],[3],[0],[0]])/((np.linalg.norm(np.array([[2],[3],[0],[0],[2],[3],[0],[0]]))))\n",
    "    True_projection_p = np.array([[2],[3],[0],[0]])/((np.linalg.norm(np.array([[2],[3],[0],[0]]))))\n",
    "    \n",
    "    obj_2_avevec = [np.zeros((P1, 1)) for _ in range(S)]\n",
    "    obj2_ave = np.zeros((P1, 1))\n",
    "\n",
    "    error_1_3 = 0\n",
    "    prediction_mse_1_3 = 0\n",
    "    proj_error_1_3 = 0\n",
    "    \n",
    "    exhi_1 = [np.zeros((P, 1)) for _ in range(S)]\n",
    "    exhi_2 = [np.zeros((P, 1)) for _ in range(S)]\n",
    "    while n1 < n_rep:  \n",
    "        obj_2 = [np.zeros((P1, 1)) for _ in range(S)]\n",
    "        obj_2_avevec = [np.zeros((P1, 1)) for _ in range(S)]\n",
    "        # Data Generation\n",
    "        for h in range(num_N):\n",
    "            noise1[h] = np.random.normal(0, 1, size=(n_gene)) \n",
    "            noise2[h] = np.random.normal(0, 1, size=(n_obs+S+3))\n",
    "            # noise[h] = np.random.normal(0, 0.5, size=(n_obs+S))\n",
    "        ar_series = np.zeros((num_N, n_obs+S+3))\n",
    "        # change initial value and burn-off?\n",
    "        ############################################################### \n",
    "        for t in range(1, n_gene + 1):\n",
    "            for i in range(4):\n",
    "                AR_temp = np.array([ar_coeff[0][i], ar_coeff[1][i]]) @ np.array([AR[i][0], AR[i][1]]) + noise1[i][t-1]\n",
    "                AR[i][1] = AR[i][0]\n",
    "                AR[i][0] = AR_temp\n",
    "        for i in range(4):\n",
    "            for k in range(p):\n",
    "                ar_series[i][k] = AR[i][k]\n",
    "        for t in range(2, n_obs+S+3):\n",
    "            for i in range(4):\n",
    "                ar_series[i][t] = np.array([ar_coeff[0][i], ar_coeff[1][i]]) @ np.array([ar_series[i][t - 1], ar_series[i][t - 2]]) + noise2[i][t]\n",
    "            ar_series[4][t] = a1 * ar_series[0][t] + a2 * ar_series[1][t] + noise2[4][t]\n",
    "        \n",
    "        for a in range(2, S+2):\n",
    "            y[a-2] = ar_series[4][a:n_obs+a]\n",
    "            X1[a-2] = np.concatenate((np.array([ar_series[i][a:n_obs+a] for i in range(P)]), np.array([ar_series[i][a-1:n_obs+a-1] for i in range(P)])), axis = 0).T #.reshape(-1,1)\n",
    "        # X = np.concatenate((np.array([ar_series[i][2:n_obs+2] for i in range(P)]), np.array([ar_series[i][1:n_obs+1] for i in range(P)])), axis = 0).T\n",
    "        ################################################################\n",
    "        # original data generation\n",
    "        # for t in range(0, n_obs+S):\n",
    "        #     ar_series[0][t] = ar_coeff[0] * ar_series[0][t - 1] + noise[0][t]\n",
    "        #     ar_series[1][t] = ar_coeff[1] * ar_series[1][t - 1] + noise[1][t]\n",
    "        #     ar_series[2][t] = ar_coeff[2] * ar_series[2][t - 1] + noise[2][t]\n",
    "        #     ar_series[3][t] = ar_coeff[3] * ar_series[3][t - 1] + noise[3][t]\n",
    "        #     ar_series[4][t] = a1 * ar_series[0][t] + a2 * ar_series[1][t] + noise[4][t]\n",
    "        # for a in range(0, S):\n",
    "        #     y[a] = ar_series[4][a:n_obs+a]\n",
    "        #     X1[a] = np.concatenate([ar_series[i][a:n_obs+a].reshape(-1, 1) for i in range(P)], axis = 1)\n",
    "        X = X1[0]\n",
    "        V1 = []\n",
    "        for a in range(0, S):\n",
    "            _, M = sir_11(X, y[a], H, K)\n",
    "            V1.append(M)\n",
    "    # objective 1: experiment\n",
    "        X2 = np.concatenate((np.array([ar_series[i][2:n_obs+2].reshape(n_obs, 1) for i in range(P)])), axis = 1)\n",
    "        for q in range(0, S):\n",
    "            phi = ar_coeff[0] + ar_coeff[1]\n",
    "            Q3 = np.zeros((P1, P1))\n",
    "            for j in range(P1):\n",
    "                for k in range(P1):\n",
    "                    Q3[j, k] = sum((phi[j] ** a) * (np.linalg.inv(np.cov(X.T)) @ V1[a] @ np.linalg.inv(np.cov(X.T)))[j, k] * (phi[k] ** a) for a in range(0, q + 1))\n",
    "            \n",
    "            # Method 1: dimension 2p \n",
    "            edr_est = compute_eigen(Q3, P1, K)\n",
    "            if edr_est[0] < 0:\n",
    "                edr_est = -edr_est\n",
    "            for i in range(ARnum):\n",
    "                edr_est[i*P] = edr_est[i*P]/ar_coeff[i][0]\n",
    "                edr_est[i*P + 1] = edr_est[i*P + 1]/ar_coeff[i][1]\n",
    "            edr_est = np.real(edr_est / np.linalg.norm(edr_est))\n",
    "            # error_1[q] += np.mean([abs(edr_est[0] / edr_est[1] - a1/a2), abs(edr_est[P] / edr_est[P + 1] - a1/a2)])\n",
    "            prediction_mse_1_1[q] += MSE(X @ edr_est, y[0]) \n",
    "            proj_error_1_1[q] += np.linalg.norm((proj(edr_est) - proj(True_projection_2p)), 'fro')**2\n",
    "            \n",
    "            # Method 2: additional step, dimension p, average every p dimensional vector. \n",
    "            average_edr_est = np.mean(edr_est.reshape(-1, P), axis=0)\n",
    "            error_1_2[q] += abs(average_edr_est[0] / average_edr_est[1] - a1/a2)\n",
    "            prediction_mse_1_2[q] += MSE((X2 @ average_edr_est).reshape(-1,1), y[0])\n",
    "            proj_error_1_2[q] += np.linalg.norm((proj((average_edr_est).reshape(-1,1)) - proj(True_projection_p)), 'fro')**2\n",
    "        \n",
    "        # Method 3: q = 0 use cross-sectional data X_t y_t, q = 0\n",
    "        edr_est_3, _ = sir_11(X2, y[0], H, K)\n",
    "        edr_est_3 = edr_est_3 @ np.linalg.inv(np.cov(X.T))\n",
    "        if edr_est_3[0] < 0:\n",
    "            edr_est_3 = -edr_est_3\n",
    "        edr_est_3 = np.real(edr_est_3 / np.linalg.norm(edr_est_3))\n",
    "        error_1_3 += abs(edr_est_3[0] / edr_est_3[1] - a1/a2)\n",
    "        prediction_mse_1_3 += MSE(X2 @ edr_est_3, y[0])\n",
    "        proj_error_1_3 += np.linalg.norm((proj(edr_est_3) - proj(True_projection_p)), 'fro')**2\n",
    "                \n",
    "        n1 += 1  \n",
    "        \n",
    "    # error_1_1 = ave(error_1_1, n_rep)    \n",
    "    error_1_2 = ave(error_1_2, n_rep)\n",
    "    error_1_3 = error_1_3/n_rep\n",
    "    prediction_mse_1_1 = ave(prediction_mse_1_1, n_rep)\n",
    "    prediction_mse_1_2 = ave(prediction_mse_1_2, n_rep)\n",
    "    prediction_mse_1_3 = prediction_mse_1_3/n_rep\n",
    "    proj_error_1_1 = ave(proj_error_1_1, n_rep)\n",
    "    proj_error_1_2 = ave(proj_error_1_2, n_rep)       \n",
    "    proj_error_1_3 = proj_error_1_3/n_rep\n",
    "    \n",
    "    index_array = list(range(len(obj_1)))\n",
    "    for i in range(S):\n",
    "        exhi_1[i] = prediction_mse_1_1[i]\n",
    "        exhi_1[i] = np.vstack((exhi_1[i], proj_error_1_1[i]))\n",
    "        exhi_1[i] = np.vstack((np.array([[index_array[i]]]), exhi_1[i]))\n",
    "    \n",
    "    for i in range(S):\n",
    "        exhi_2[i] = error_1_2[i]\n",
    "        exhi_2[i] = np.vstack((exhi_2[i], proj_error_1_2[i]))\n",
    "        exhi_2[i] = np.vstack((exhi_2[i], prediction_mse_1_2[i]))\n",
    "        exhi_2[i] = np.vstack((np.array([[index_array[i]]]), exhi_2[i]))\n",
    "    \n",
    "    #     obj_1[i] = np.vstack((obj_1[i], g[i].reshape(1,-1)))\n",
    "    #     obj_1[i] = np.vstack((np.array([[index_array[i]]]), obj_1[i])) \n",
    "    #     obj_1[i] = np.vstack((np.array(obj_1[i]), proj_error_1[i])) \n",
    "    #     obj_1[i] = np.vstack((np.array(obj_1[i]), mse[i]))\n",
    "      \n",
    "    #objective 1: exhibition\n",
    "    # for i in range(S):\n",
    "    #     g[i] = abs(obj_1[i][0] / obj_1[i][1] - a1/a2)\n",
    "    #     obj_1[i] = np.vstack((obj_1[i], g[i].reshape(1,-1)))\n",
    "    #     obj_1[i] = np.vstack((np.array([[index_array[i]]]), obj_1[i])) \n",
    "    #     obj_1[i] = np.vstack((np.array(obj_1[i]), proj_error_1[i])) \n",
    "    #     obj_1[i] = np.vstack((np.array(obj_1[i]), mse[i]))\n",
    "        \n",
    "    # Result1 = [g[0] - min(g), projection1_norm[0] - min(projection1_norm), mse[0] - min(mse)]\n",
    "    # Result1 = [x.item() for x in Result1]\n",
    "        \n",
    "    #objective 2: exhibition\n",
    "    \n",
    "    # for i in range(S):\n",
    "    #     g[i] = abs(obj2[i][0] / obj2[i][1] - a1/a2)\n",
    "    #     projection2_norm[i] = np.linalg.norm(proj2[i] - proj(True_projection), 'fro')\n",
    "    #     obj2[i] = np.vstack((obj_2_avevec[i], g[i].reshape(1,-1)))\n",
    "    #     obj2[i] = np.vstack((np.array([[index_array[i]]]), obj_2_avevec[i]))    \n",
    "    #     obj2[i] = np.vstack((np.array(obj2[i]), projection2_norm[i]))\n",
    "    #     obj2[i] = np.vstack((np.array(obj2[i]), mse2[i]))\n",
    "    #     obj2[i] = np.vstack((np.array(obj2[i]), abs(obj_2_avevec[i][0]/obj_2_avevec[i][1] - 2/3)))\n",
    "    #     obj2[i] = np.vstack((np.array(obj2[i]), np.linalg.norm(proj(obj_2_avevec[i]) - proj(True_projection), 'fro')))\n",
    "    #     obj2[i] = np.vstack((np.array(obj2[i]), Mse1(X @ obj_2_avevec[i], y[0])))\n",
    "    \n",
    "    # for i in range(S):\n",
    "    #     g[i] = abs(obj_2_avevec[i][0] / obj_2_avevec[i][1] - a1/a2)\n",
    "    #     g1[i] = proj_error_2[i]\n",
    "    #     g2[i] = Mse1(X @ obj_2_avevec[i], y[0])\n",
    "    #     obj_2_avevec[i] = np.vstack((obj_2_avevec[i], g[i].reshape(1,-1)))\n",
    "    #     obj_2_avevec[i] = np.vstack((np.array([[index_array[i]]]), obj_2_avevec[i]))    \n",
    "    #     obj_2_avevec[i] = np.vstack((obj_2_avevec[i], g1[i]))\n",
    "    #     obj_2_avevec[i] = np.vstack((obj_2_avevec[i], g2[i]))\n",
    "    \n",
    "    # Result2 = [g[0] - min(g), g1[0] - min(g1), g2[0] - min(g2)] \n",
    "    # Result2 = [x.item() for x in Result2]\n",
    "    \n",
    "    # print(\"error_1:\",[x.item() for x in error_1])\n",
    "    # print(\"error_2:\",[x.item() for x in error_2])\n",
    "    # print(\"proj_error_1:\",[x.item() for x in proj_error_1]) \n",
    "    # print(\"proj_error_2:\",[x.item() for x in proj_error_2])\n",
    "    \n",
    "    # print(obj_2_avevec)\n",
    "    # print(obj_2)\n",
    "    # print(\"Obj1\")\n",
    "    # exhi(obj1) \n",
    "    # print(\"Obj2\")\n",
    "    # exhi(obj_2_avevec)\n",
    "    # print(Result1), print(Result2)\n",
    "    # return obj_2_avevec\n",
    "    print(\"Obj1 Method 1\")\n",
    "    exhi(exhi_1)\n",
    "    print(\"Obj1 Method 2\")\n",
    "    exhi(exhi_2)\n",
    "    # print(\"Obj1 Method 3\")\n",
    "    return error_1_3, proj_error_1_3, prediction_mse_1_3"
   ]
  },
  {
   "cell_type": "markdown",
   "id": "b9a0488d-b7f6-41c1-ad91-0d9d57519728",
   "metadata": {},
   "source": [
    "# $X_{t}, X_{t-1}, \\text{Objective 1}, AR(p)$"
   ]
  },
  {
   "cell_type": "markdown",
   "id": "1e03b3a0-0405-43cc-b214-6cfa54d4835d",
   "metadata": {},
   "source": [
    "## True_projection_2p = np.array([[2],[3],[0],[0],[2],[3],[0],[0]])"
   ]
  },
  {
   "cell_type": "code",
   "execution_count": 38,
   "id": "d36c019f-d7b6-4714-ac1d-57b612205a17",
   "metadata": {},
   "outputs": [
    {
     "name": "stdout",
     "output_type": "stream",
     "text": [
      "Obj1 Method 2\n",
      "\\begin{tabular}{rrrr}\n",
      "\\hline\n",
      " 0 & 0.593239 & 0.488733 & 0.053653 \\\\ \\hline\n",
      " 1 & 0.593604 & 0.489316 & 0.053711 \\\\ \\hline\n",
      " 2 & 0.59371  & 0.489493 & 0.053726 \\\\ \\hline\n",
      " 3 & 0.593743 & 0.489556 & 0.053732 \\\\ \\hline\n",
      " 4 & 0.593757 & 0.489577 & 0.053733 \\\\ \\hline\n",
      " 5 & 0.593758 & 0.48958  & 0.053734 \\\\ \\hline\n",
      " 6 & 0.593759 & 0.48958  & 0.053734 \\\\ \\hline\n",
      " 7 & 0.593759 & 0.48958  & 0.053734 \\\\ \\hline\n",
      " 8 & 0.593759 & 0.48958  & 0.053734 \\\\ \\hline\n",
      " 9 & 0.593759 & 0.48958  & 0.053734 \\\\ \\hline\n",
      "\\hline \\hline\n",
      "\\end{tabular} \\hline\n",
      "Obj1 Method 3\n",
      "[0.04011476]\n",
      "0.0018776456318951279\n",
      "0.00980676513768034\n"
     ]
    }
   ],
   "source": [
    "ar_coeff = [[0.3, 0.5, 0.5, 0.6], [0.4, 0.45, 0.4, 0.3]]\n",
    "initial_value = [[0,0],[0,0],[0,0],[0,0]]\n",
    "a1 = 2;a2 = 3; n_gene = 10000; n_obs = 1000; H = 50; S = 10; n_rep = 1;\n",
    "TestAR3(ar_coeff, a1, a2, initial_value, n_gene, n_obs, H, S, n_rep)"
   ]
  },
  {
   "cell_type": "code",
   "execution_count": null,
   "id": "bfb29461-91c8-4ad0-8d00-f13ae18f5d19",
   "metadata": {},
   "outputs": [],
   "source": []
  },
  {
   "cell_type": "code",
   "execution_count": 31,
   "id": "370bc101-f9f4-4503-bdb5-8e36c2e691a2",
   "metadata": {},
   "outputs": [
    {
     "name": "stdout",
     "output_type": "stream",
     "text": [
      "Obj1 Method 2\n",
      "\\begin{tabular}{rrrr}\n",
      "\\hline\n",
      " 0 & 0.356871 & 0.168917 & 0.034961 \\\\ \\hline\n",
      " 1 & 0.35493  & 0.168519 & 0.034975 \\\\ \\hline\n",
      " 2 & 0.356773 & 0.169868 & 0.035165 \\\\ \\hline\n",
      " 3 & 0.357277 & 0.170237 & 0.035219 \\\\ \\hline\n",
      " 4 & 0.357436 & 0.170373 & 0.035238 \\\\ \\hline\n",
      " 5 & 0.357486 & 0.170419 & 0.035245 \\\\ \\hline\n",
      " 6 & 0.357498 & 0.170434 & 0.035248 \\\\ \\hline\n",
      " 7 & 0.357502 & 0.17044  & 0.035249 \\\\ \\hline\n",
      " 8 & 0.357503 & 0.170441 & 0.035249 \\\\ \\hline\n",
      " 9 & 0.357503 & 0.170442 & 0.035249 \\\\ \\hline\n",
      "\\hline \\hline\n",
      "\\end{tabular} \\hline\n",
      "Obj1 Method 3\n",
      "[0.31420367]\n",
      "0.13142531264317867\n",
      "0.02981173229947657\n"
     ]
    }
   ],
   "source": [
    "ar_coeff = [[0.3, 0.2, 0.5, 0.6], [0.5, 0.45, 0.4, 0.3]]\n",
    "initial_value = [[0,0],[0,0],[0,0],[0,0]]\n",
    "a1 = 2;a2 = 3; n_gene = 10000; n_obs = 1000; H = 50; S = 10; n_rep = 100;\n",
    "TestAR3(ar_coeff, a1, a2, initial_value, n_gene, n_obs, H, S, n_rep)"
   ]
  },
  {
   "cell_type": "code",
   "execution_count": 32,
   "id": "5095a2fe-7cae-4c86-88eb-bba3f10bf63b",
   "metadata": {},
   "outputs": [
    {
     "name": "stdout",
     "output_type": "stream",
     "text": [
      "Obj1 Method 2\n",
      "\\begin{tabular}{rrrr}\n",
      "\\hline\n",
      " 0 & 0.116248 & 0.079598 & 0.024136 \\\\ \\hline\n",
      " 1 & 0.119268 & 0.08674  & 0.025362 \\\\ \\hline\n",
      " 2 & 0.119752 & 0.088505 & 0.025676 \\\\ \\hline\n",
      " 3 & 0.119784 & 0.088992 & 0.025765 \\\\ \\hline\n",
      " 4 & 0.119786 & 0.089127 & 0.025791 \\\\ \\hline\n",
      " 5 & 0.119786 & 0.089169 & 0.025798 \\\\ \\hline\n",
      " 6 & 0.119786 & 0.089182 & 0.025801 \\\\ \\hline\n",
      " 7 & 0.119786 & 0.089187 & 0.025802 \\\\ \\hline\n",
      " 8 & 0.119786 & 0.089189 & 0.025802 \\\\ \\hline\n",
      " 9 & 0.119786 & 0.089189 & 0.025802 \\\\ \\hline\n",
      "\\hline \\hline\n",
      "\\end{tabular} \\hline\n",
      "Obj1 Method 3\n",
      "[0.0778975]\n",
      "0.05041126751092993\n",
      "0.020169101044991568\n"
     ]
    }
   ],
   "source": [
    "ar_coeff = [[0.2, 0.3, 0.5, 0.6], [0.1, 0.2, 0.4, 0.3]]\n",
    "initial_value = [[0,0],[0,0],[0,0],[0,0]]\n",
    "a1 = 2;a2 = 3; n_gene = 10000; n_obs = 1000; H = 50; S = 10; n_rep = 100;\n",
    "TestAR3(ar_coeff, a1, a2, initial_value, n_gene, n_obs, H, S, n_rep)"
   ]
  },
  {
   "cell_type": "code",
   "execution_count": 33,
   "id": "cb3db4d0-7d82-46c5-8665-f82b352e89aa",
   "metadata": {},
   "outputs": [
    {
     "name": "stdout",
     "output_type": "stream",
     "text": [
      "Obj1 Method 2\n",
      "\\begin{tabular}{rrrr}\n",
      "\\hline\n",
      " 0 & 4.05714 & 1.44157 & 0.104601 \\\\ \\hline\n",
      " 1 & 4.06384 & 1.44158 & 0.104602 \\\\ \\hline\n",
      " 2 & 4.06385 & 1.44158 & 0.104602 \\\\ \\hline\n",
      " 3 & 4.06385 & 1.44158 & 0.104602 \\\\ \\hline\n",
      " 4 & 4.06385 & 1.44158 & 0.104602 \\\\ \\hline\n",
      " 5 & 4.06385 & 1.44158 & 0.104602 \\\\ \\hline\n",
      " 6 & 4.06385 & 1.44158 & 0.104602 \\\\ \\hline\n",
      " 7 & 4.06385 & 1.44158 & 0.104602 \\\\ \\hline\n",
      " 8 & 4.06385 & 1.44158 & 0.104602 \\\\ \\hline\n",
      " 9 & 4.06385 & 1.44158 & 0.104602 \\\\ \\hline\n",
      "\\hline \\hline\n",
      "\\end{tabular} \\hline\n",
      "Obj1 Method 3\n",
      "[0.04055842]\n",
      "0.006483091799923092\n",
      "0.010465864952303672\n"
     ]
    }
   ],
   "source": [
    "ar_coeff = [[0.01, 0.01, 0.01, 0.01], [0.01, 0.01, 0.01, 0.01]]\n",
    "initial_value = [[0,0],[0,0],[0,0],[0,0]]\n",
    "a1 = 2;a2 = 3; n_gene = 10000; n_obs = 1000; H = 50; S = 10; n_rep = 100;\n",
    "TestAR3(ar_coeff, a1, a2, initial_value, n_gene, n_obs, H, S, n_rep)"
   ]
  },
  {
   "cell_type": "code",
   "execution_count": null,
   "id": "c416366c-5049-4bd2-9b77-e76a46113516",
   "metadata": {},
   "outputs": [],
   "source": []
  },
  {
   "cell_type": "code",
   "execution_count": null,
   "id": "be8708a3-4067-46ca-ba5c-922b6b8f42d7",
   "metadata": {},
   "outputs": [],
   "source": []
  },
  {
   "cell_type": "code",
   "execution_count": null,
   "id": "8f8bda34-d045-48fb-8e47-459f7c0d7844",
   "metadata": {},
   "outputs": [],
   "source": []
  },
  {
   "cell_type": "code",
   "execution_count": null,
   "id": "c0a17b3a-aaf7-4dc3-a58f-e5236838bd01",
   "metadata": {},
   "outputs": [],
   "source": []
  },
  {
   "cell_type": "code",
   "execution_count": 145,
   "id": "f852d626-77d5-4e3f-be8a-299303399dbd",
   "metadata": {},
   "outputs": [
    {
     "name": "stdout",
     "output_type": "stream",
     "text": [
      "Obj1 Method 2\n",
      "\\begin{tabular}{rrrr}\n",
      "\\hline\n",
      " 0 & 0.043348 & 0.011777 & 0.012876 \\\\ \\hline\n",
      " 1 & 0.085194 & 0.017646 & 0.013668 \\\\ \\hline\n",
      " 2 & 0.118424 & 0.022633 & 0.014312 \\\\ \\hline\n",
      " 3 & 0.142088 & 0.027183 & 0.014953 \\\\ \\hline\n",
      " 4 & 0.157656 & 0.030523 & 0.015452 \\\\ \\hline\n",
      " 5 & 0.166475 & 0.032528 & 0.015753 \\\\ \\hline\n",
      " 6 & 0.171512 & 0.033723 & 0.015932 \\\\ \\hline\n",
      " 7 & 0.174283 & 0.034401 & 0.016035 \\\\ \\hline\n",
      " 8 & 0.175605 & 0.034726 & 0.016084 \\\\ \\hline\n",
      " 9 & 0.176282 & 0.034891 & 0.016109 \\\\ \\hline\n",
      "\\hline \\hline\n",
      "\\end{tabular} \\hline\n",
      "Obj1 Method 3\n",
      "[0.103833]\n",
      "0.056515814603976304\n",
      "0.022319065813024074\n"
     ]
    }
   ],
   "source": [
    "ar_coeff = [[0.7, 0.6, 0.5, 0.6], [0.1, 0.2, 0.4, 0.3]]\n",
    "initial_value = [[0,0],[0,0],[0,0],[0,0]]\n",
    "a1 = 2;a2 = 3; n_gene = 10000; n_obs = 1000; H = 50; S = 10; n_rep = 100;\n",
    "TestAR3(ar_coeff, a1, a2, initial_value, n_gene, n_obs, H, S, n_rep)"
   ]
  },
  {
   "cell_type": "code",
   "execution_count": 150,
   "id": "a1cb2be3-a1a9-4ea8-b868-03605f2e4417",
   "metadata": {},
   "outputs": [
    {
     "name": "stdout",
     "output_type": "stream",
     "text": [
      "Obj1 Method 2\n",
      "\\begin{tabular}{rrrr}\n",
      "\\hline\n",
      " 0 & 0.04672  & 0.011171 & 0.01248  \\\\ \\hline\n",
      " 1 & 0.081085 & 0.01535  & 0.013263 \\\\ \\hline\n",
      " 2 & 0.112292 & 0.019938 & 0.013962 \\\\ \\hline\n",
      " 3 & 0.13579  & 0.024365 & 0.014658 \\\\ \\hline\n",
      " 4 & 0.15147  & 0.027803 & 0.015199 \\\\ \\hline\n",
      " 5 & 0.160602 & 0.029861 & 0.01552  \\\\ \\hline\n",
      " 6 & 0.165836 & 0.031094 & 0.015716 \\\\ \\hline\n",
      " 7 & 0.168681 & 0.031782 & 0.015826 \\\\ \\hline\n",
      " 8 & 0.169981 & 0.032104 & 0.015878 \\\\ \\hline\n",
      " 9 & 0.170617 & 0.032261 & 0.015903 \\\\ \\hline\n",
      "\\hline \\hline\n",
      "\\end{tabular} \\hline\n",
      "Obj1 Method 3\n",
      "[0.10542507]\n",
      "0.07241548619068974\n",
      "0.025875411850980013\n"
     ]
    }
   ],
   "source": [
    "ar_coeff = [[0.7, 0.6, 0.5, 0.6], [0.1, 0.2, 0.4, 0.3]]\n",
    "initial_value = [[0,0],[0,0],[0,0],[0,0]]\n",
    "a1 = 2;a2 = 3; n_gene = 50000; n_obs = 1000; H = 50; S = 10; n_rep = 100;\n",
    "TestAR3(ar_coeff, a1, a2, initial_value, n_gene, n_obs, H, S, n_rep)"
   ]
  },
  {
   "cell_type": "code",
   "execution_count": null,
   "id": "7c002133-1596-42b6-9846-1c0b61dbbcca",
   "metadata": {},
   "outputs": [],
   "source": []
  },
  {
   "cell_type": "code",
   "execution_count": 123,
   "id": "6de2ac68-a0ac-4e95-b3ab-f091ec57ef47",
   "metadata": {},
   "outputs": [],
   "source": [
    "# Using the Augmented Dickey-Fuller (ADF) test\n",
    "from statsmodels.tsa.stattools import adfuller\n",
    "def check_stationarity(post_burn_samples):\n",
    "    result = adfuller(post_burn_samples)\n",
    "    print(f'ADF Statistic: {result[0]}')\n",
    "    print(f'p-value: {result[1]}')\n",
    "    return result[1] < 0.05  # Stationary if p-value < 0.05\n",
    "    \n",
    "def TestAR3(ar_coeff, a1, a2, initial_value, n_gene, n_obs, H, S, n_rep):\n",
    "    p = 2; num_N = 5;P = 4;K = 1;n1 = 0;l = 1; n_burn_round = 2; P1 = p*P; AR = initial_value \n",
    "    noise1 = np.zeros((num_N, n_burn))\n",
    "    noise2 = np.zeros((num_N, n_obs+S+3))\n",
    "    y = [np.zeros((num_N, n_obs+i)) for i in range(S)]\n",
    "    X1 = [[np.zeros((num_N, 2*n_obs)) for i in range(P)] for i in range(S)]\n",
    "    obj_1 = [np.zeros((P, 1)) for _ in range(S)]  \n",
    "    obj_2 = [np.zeros((P1, 1)) for _ in range(S)]  \n",
    "    prediction_mse_1_1 = [np.zeros((1, 1)) for _ in range(S)]\n",
    "    prediction_mse_1_2 = [np.zeros((1, 1)) for _ in range(S)]\n",
    "    prediction_mse_2 = [np.zeros((1, 1)) for _ in range(S)]\n",
    "    M = [np.zeros((P, 1)) for _ in range(S)] \n",
    "    proj_error_1_1 = [np.zeros((1, )) for _ in range(S)] \n",
    "    proj_error_1_2 = [np.zeros((1, )) for _ in range(S)]\n",
    "    proj_error_2 = [np.zeros((1, )) for _ in range(S)] \n",
    "    \n",
    "    # error_1_1 is for dim 2P, error_1_2 is for dim P\n",
    "    error_1_1 = [np.zeros((1, )) for _ in range(S)]\n",
    "    error_1_2 = [np.zeros((1, )) for _ in range(S)]\n",
    "    error_2 = [np.zeros((1, )) for _ in range(S)]\n",
    "    g = np.zeros((S, 1))\n",
    "    g1 = np.zeros((S, 1))\n",
    "    g2 = np.zeros((S, 1))\n",
    "    projection_1_norm = np.zeros((S, 1))\n",
    "    projection_2_norm = np.zeros((S, 1))\n",
    "    # True_projection for 2P and P\n",
    "    True_projection_2p = np.array([[2],[3],[0],[0],[2],[3],[0],[0]])/((np.linalg.norm(np.array([[2],[3],[0],[0],[2],[3],[0],[0]]))))\n",
    "    # True_projection_2p = np.array([[2],[3],[0],[0],[0],[0],[0],[0]])/((np.linalg.norm(np.array([[2],[3],[0],[0],[0],[0],[0],[0]]))))\n",
    "    True_projection_p = np.array([[2],[3],[0],[0]])/((np.linalg.norm(np.array([[2],[3],[0],[0]]))))\n",
    "    \n",
    "    obj_2_avevec = [np.zeros((P1, 1)) for _ in range(S)]\n",
    "    obj2_ave = np.zeros((P1, 1))\n",
    "    error_1_3 = 0\n",
    "    prediction_mse_1_3 = 0\n",
    "    proj_error_1_3 = 0\n",
    "    exhi_1 = [np.zeros((P, 1)) for _ in range(S)]\n",
    "    exhi_2 = [np.zeros((P, 1)) for _ in range(S)]\n",
    "    obj_2 = [np.zeros((P1, 1)) for _ in range(S)]\n",
    "    obj_2_avevec = [np.zeros((P1, 1)) for _ in range(S)]\n",
    "    while n1 < n_rep:\n",
    "        # Data Generation\n",
    "        for h in range(num_N):\n",
    "            noise1[h] = np.random.normal(0, 0.1, size=(n_burn)) \n",
    "            noise2[h] = np.random.normal(0, 0.1, size=(n_obs+S+3))\n",
    "            # noise[h] = np.random.normal(0, 0.5, size=(n_obs+S))\n",
    "        ar_series = np.zeros((num_N, n_obs+S+3))\n",
    "        # change initial value and burn-off?\n",
    "        ############################################################### \n",
    "        for t in range(1, n_burn + 1):\n",
    "            for i in range(4):\n",
    "                AR_temp = np.array([ar_coeff[0][i], ar_coeff[1][i]]) @ np.array([AR[i][0], AR[i][1]]) + noise1[i][t-1]\n",
    "                AR[i][1] = AR[i][0]\n",
    "                AR[i][0] = AR_temp\n",
    "        for i in range(4):\n",
    "            for k in range(n_burn_round):\n",
    "                ar_series[i][k] = AR[i][k]\n",
    "        for t in range(2, n_obs+S+3):\n",
    "            for i in range(4):\n",
    "                ar_series[i][t] = np.array([ar_coeff[0][i], ar_coeff[1][i]]) @ np.array([ar_series[i][t - 1], ar_series[i][t - 2]]) + noise2[i][t]\n",
    "            ar_series[4][t] = a1 * ar_series[0][t] + a2 * ar_series[1][t] + noise2[4][t]\n",
    "        for a in range(2, S+2):\n",
    "            y[a-2] = ar_series[4][a:n_obs+a]\n",
    "            X1[a-2] = np.concatenate((np.array([ar_series[i][a:n_obs+a] for i in range(P)]), np.array([ar_series[i][a-1:n_obs+a-1] for i in range(P)])), axis = 0).T \n",
    "        X2 = np.concatenate((np.array([ar_series[i][2:n_obs+2] for i in range(P)]), np.zeros((P, n_obs))), axis = 0).T\n",
    "        X3 = np.concatenate((np.array([ar_series[i][2:n_obs+2].reshape(n_obs, 1) for i in range(P)])), axis = 1)\n",
    "        phi = ar_coeff[0] + ar_coeff[1]\n",
    "        X = X1[0]\n",
    "        V1 = []\n",
    "        for a in range(0, S):\n",
    "            if a == 0:\n",
    "                _, M = sir_11(X2, y[a], H, K)\n",
    "                V1.append(M)\n",
    "            else:    \n",
    "                _, M = sir_11(X, y[a], H, K)\n",
    "                V1.append(M)\n",
    "        # objective 1: experiment\n",
    "        zero_1 = np.zeros((P, (p-1)*P))  # Shape (P, (p-1)*P)\n",
    "        zero_2 = np.zeros(((p-1)*P, P))  # Shape ((p-1)*P, P)\n",
    "        zero_3 = np.zeros(((p-1)*P, (p-1)*P))  # Shape ((p-1)*P, (p-1)*P)\n",
    "        \n",
    "        # Assemble the block matrix\n",
    "        top_block = np.hstack([np.linalg.inv(np.cov(X3.T)), zero_1])  # Top block\n",
    "        bottom_block = np.hstack([zero_2, zero_3])  # Bottom block\n",
    "        \n",
    "        Mhat =  np.vstack([top_block, bottom_block]) \n",
    "        \n",
    "        for q in range(0, S):\n",
    "            Q3 = np.zeros((P1, P1))\n",
    "            for j in range(P1):\n",
    "                for k in range(P1):\n",
    "                    # np.linalg.inv(np.cov(X2.T)) is invalid, have to use np.linalg.pinv(np.cov(X2.T))??\n",
    "                    Q3[j, k] = (Mhat @ V1[0] @ Mhat)[j, k] + sum((phi[j] ** a) * (np.linalg.inv(np.cov(X.T)) @ V1[a] @ np.linalg.inv(np.cov(X.T)))[j, k] * (phi[k] ** a) for a in range(1, q + 1))\n",
    "            # Method 1: dimension 2p \n",
    "            edr_est = compute_eigen(Q3, P1, K)\n",
    "            # if edr_est[0] < 0:\n",
    "            #     edr_est[0:P] = -edr_est[0:P]\n",
    "            # if edr_est[P] < 0:\n",
    "            #     edr_est[P:] = -edr_est[P:]\n",
    "            # X_t, X_{t-1}, X_{t-1} should divide ar coeff\n",
    "            for i in range(1, p):\n",
    "                for j in range(P):\n",
    "                    edr_est[i*P + j] = edr_est[i*P + j]/ar_coeff[i-1][j]\n",
    "            edr_est = np.real(edr_est / np.linalg.norm(edr_est))\n",
    "            error_1_1[q] += abs(edr_est[0] / edr_est[1] - a1/a2)\n",
    "            prediction_mse_1_1[q] += MSE(X @ edr_est, y[0]) \n",
    "            proj_error_1_1[q] += np.linalg.norm((proj(edr_est) - proj(True_projection_2p)), 'fro')**2\n",
    "            \n",
    "            # Method 2: additional step, dimension P, average every P dimensional vector. \n",
    "            average_edr_est = np.mean(edr_est.reshape(-1, P), axis=0)\n",
    "            error_1_2[q] += abs(average_edr_est[0] / average_edr_est[1] - a1/a2)\n",
    "            prediction_mse_1_2[q] += MSE((X3 @ average_edr_est).reshape(-1,1), y[0])\n",
    "            proj_error_1_2[q] += np.linalg.norm((proj((average_edr_est).reshape(-1,1)) - proj(True_projection_p)), 'fro')**2\n",
    "            \n",
    "        # Method 3: q = 0 use cross-sectional data X_t y_t, q = 0\n",
    "        edr_est_3, M1 = sir_11(X3, y[0], H, K)\n",
    "        # edr_est_3 = np.linalg.inv(np.cov(X3.T)) @ edr_est_3 \n",
    "        edr_est_3 = compute_eigen(np.linalg.inv(np.cov(X3.T)) @ M1 @ np.linalg.inv(np.cov(X3.T)), P, K)\n",
    "        if edr_est_3[0] < 0:\n",
    "            edr_est_3 = -edr_est_3\n",
    "        edr_est_3 = np.real(edr_est_3 / np.linalg.norm(edr_est_3))\n",
    "        error_1_3 += abs(edr_est_3[0] / edr_est_3[1] - a1/a2)\n",
    "        prediction_mse_1_3 += MSE(X3 @ edr_est_3, y[0])\n",
    "        proj_error_1_3 += np.linalg.norm((proj(edr_est_3) - proj(True_projection_p)), 'fro')**2\n",
    "        \n",
    "        n1 += 1\n",
    "    index_array = list(range(len(obj_1)))\n",
    "    \n",
    "    error_1_1 = ave(error_1_1, n_rep)    \n",
    "    error_1_2 = ave(error_1_2, n_rep)\n",
    "    error_1_3 = error_1_3/n_rep\n",
    "    prediction_mse_1_1 = ave(prediction_mse_1_1, n_rep)\n",
    "    prediction_mse_1_2 = ave(prediction_mse_1_2, n_rep)\n",
    "    prediction_mse_1_3 = prediction_mse_1_3/n_rep\n",
    "    proj_error_1_1 = ave(proj_error_1_1, n_rep)\n",
    "    proj_error_1_2 = ave(proj_error_1_2, n_rep)       \n",
    "    proj_error_1_3 = proj_error_1_3/n_rep\n",
    "    for i in range(S):\n",
    "        exhi_1[i] = error_1_2[i]\n",
    "        exhi_1[i] = np.vstack((exhi_1[i], proj_error_1_2[i]))\n",
    "        exhi_1[i] = np.vstack((exhi_1[i], prediction_mse_1_2[i]))\n",
    "        exhi_1[i] = np.vstack((np.array([[index_array[i]]]), exhi_1[i]))\n",
    "    print(\"Obj1 Method 2\")\n",
    "    exhi(exhi_1)\n",
    "    print(\"Obj1 Method 3\")\n",
    "    print(error_1_3)\n",
    "    print(proj_error_1_3)\n",
    "    print(prediction_mse_1_3)\n",
    "    \n",
    "    for i in range(P+1):\n",
    "        print(f\"{i}\")\n",
    "        print(check_stationarity(ar_series[i]))"
   ]
  },
  {
   "cell_type": "code",
   "execution_count": 109,
   "id": "a7ffaa49-3261-4697-a7cd-b0978daf063b",
   "metadata": {},
   "outputs": [
    {
     "name": "stdout",
     "output_type": "stream",
     "text": [
      "Obj1 Method 2\n",
      "\\begin{tabular}{rrrr}\n",
      "\\hline\n",
      " 0 & 0.011744 & 0.00031  & 0.010054 \\\\ \\hline\n",
      " 1 & 0.026797 & 0.001039 & 0.010144 \\\\ \\hline\n",
      " 2 & 0.026136 & 0.001012 & 0.010138 \\\\ \\hline\n",
      " 3 & 0.026403 & 0.001033 & 0.010141 \\\\ \\hline\n",
      " 4 & 0.026445 & 0.001037 & 0.010141 \\\\ \\hline\n",
      "\\hline \\hline\n",
      "\\end{tabular} \\hline\n",
      "Obj1 Method 3\n",
      "[0.01174415]\n",
      "0.00030994209179671347\n",
      "0.010054443267347746\n"
     ]
    }
   ],
   "source": [
    "ar_coeff = [[0.3, 0.2, 0.5, 0.6], [0.5, 0.45, 0.4, 0.3]]\n",
    "initial_value = [[0,0],[0,0],[0,0],[0,0]]\n",
    "a1 = 2;a2 = 3; n_burn = 10000; n_obs = 1000; H = 50; S = 5; n_rep = 100;\n",
    "TestAR3(ar_coeff, a1, a2, initial_value, n_burn, n_obs, H, S, n_rep)"
   ]
  },
  {
   "cell_type": "code",
   "execution_count": 141,
   "id": "5cb0bed4-9853-4fc9-a3a4-31d94873aebe",
   "metadata": {},
   "outputs": [
    {
     "name": "stdout",
     "output_type": "stream",
     "text": [
      "Obj1 Method 2\n",
      "\\begin{tabular}{rrrr}\n",
      "\\hline\n",
      " 0 & 0.051681 & 0.003714 & 0.010541 \\\\ \\hline\n",
      " 1 & 0.149577 & 0.020258 & 0.012852 \\\\ \\hline\n",
      " 2 & 0.137057 & 0.01755  & 0.012483 \\\\ \\hline\n",
      " 3 & 0.138933 & 0.017984 & 0.012544 \\\\ \\hline\n",
      " 4 & 0.138299 & 0.017857 & 0.012527 \\\\ \\hline\n",
      "\\hline \\hline\n",
      "\\end{tabular} \\hline\n",
      "Obj1 Method 3\n",
      "[0.05168068]\n",
      "0.0037139562525194325\n",
      "0.010541288779240026\n",
      "0\n",
      "ADF Statistic: -9.71092415154106\n",
      "p-value: 1.0121101652737118e-16\n",
      "True\n",
      "1\n",
      "ADF Statistic: -6.562669006857199\n",
      "p-value: 8.305978367952278e-09\n",
      "True\n",
      "2\n",
      "ADF Statistic: -8.817294784125265\n",
      "p-value: 1.918933292181335e-14\n",
      "True\n",
      "3\n",
      "ADF Statistic: -9.856595927431847\n",
      "p-value: 4.3429363519643e-17\n",
      "True\n",
      "4\n",
      "ADF Statistic: -6.776118667272482\n",
      "p-value: 2.5682108395459347e-09\n",
      "True\n"
     ]
    }
   ],
   "source": [
    "ar_coeff = [[0.2, 0.5, 0.2, 0.3], [0.5, 0.4, 0.1, 0.2]]\n",
    "initial_value = [[0,0],[0,0],[0,0],[0,0]]\n",
    "a1 = 2;a2 = 3; n_burn = 10000; n_obs = 1000; H = 50; S = 5; n_rep = 100;\n",
    "TestAR3(ar_coeff, a1, a2, initial_value, n_burn, n_obs, H, S, n_rep)"
   ]
  },
  {
   "cell_type": "code",
   "execution_count": 158,
   "id": "b06704ba-e44a-427e-bde6-8d9c0d95b559",
   "metadata": {},
   "outputs": [
    {
     "name": "stdout",
     "output_type": "stream",
     "text": [
      "Obj1 Method 2\n",
      "\\begin{tabular}{rrrr}\n",
      "\\hline\n",
      " 0 & 0.074296 & 0.006734 & 0.010665 \\\\ \\hline\n",
      " 1 & 0.053839 & 0.004736 & 0.010429 \\\\ \\hline\n",
      " 2 & 0.034327 & 0.002969 & 0.010236 \\\\ \\hline\n",
      " 3 & 0.030867 & 0.002688 & 0.010204 \\\\ \\hline\n",
      " 4 & 0.029905 & 0.002613 & 0.010196 \\\\ \\hline\n",
      " 5 & 0.029681 & 0.002595 & 0.010194 \\\\ \\hline\n",
      " 6 & 0.029618 & 0.00259  & 0.010193 \\\\ \\hline\n",
      " 7 & 0.029602 & 0.002589 & 0.010193 \\\\ \\hline\n",
      " 8 & 0.029598 & 0.002589 & 0.010193 \\\\ \\hline\n",
      " 9 & 0.029596 & 0.002589 & 0.010193 \\\\ \\hline\n",
      "\\hline \\hline\n",
      "\\end{tabular} \\hline\n",
      "Obj1 Method 3\n",
      "[0.07429583]\n",
      "0.006734304653500081\n",
      "0.010664821373164267\n",
      "0\n",
      "ADF Statistic: -13.61488857115552\n",
      "p-value: 1.843164175175203e-25\n",
      "True\n",
      "1\n",
      "ADF Statistic: -5.998008338390461\n",
      "p-value: 1.6834352205095565e-07\n",
      "True\n",
      "2\n",
      "ADF Statistic: -33.113847869447504\n",
      "p-value: 0.0\n",
      "True\n",
      "3\n",
      "ADF Statistic: -31.561145499289754\n",
      "p-value: 0.0\n",
      "True\n",
      "4\n",
      "ADF Statistic: -6.625953255020538\n",
      "p-value: 5.875836069046192e-09\n",
      "True\n"
     ]
    }
   ],
   "source": [
    "ar_coeff = [[0.2, 0.5, 0.01, 0.01], [0.3, 0.4, 0.01, 0.01]]\n",
    "initial_value = [[0,0],[0,0],[0,0],[0,0]]\n",
    "a1 = 2;a2 = 3; n_burn = 10000; n_obs = 1000; H = 50; S = 10; n_rep = 100;\n",
    "TestAR3(ar_coeff, a1, a2, initial_value, n_burn, n_obs, H, S, n_rep)"
   ]
  },
  {
   "cell_type": "code",
   "execution_count": 159,
   "id": "fc958db5-3868-437d-b2d1-c84c57a29a98",
   "metadata": {},
   "outputs": [
    {
     "name": "stdout",
     "output_type": "stream",
     "text": [
      "Obj1 Method 2\n",
      "\\begin{tabular}{rrrr}\n",
      "\\hline\n",
      " 0 & 12.2288 & 1.17116 & 5.65892 \\\\ \\hline\n",
      " 1 & 11.9151 & 1.09082 & 5.40342 \\\\ \\hline\n",
      " 2 & 11.1878 & 1.0538  & 5.20432 \\\\ \\hline\n",
      " 3 & 10.9054 & 1.03868 & 5.12071 \\\\ \\hline\n",
      " 4 & 10.7943 & 1.03235 & 5.08625 \\\\ \\hline\n",
      " 5 & 10.7515 & 1.03009 & 5.07304 \\\\ \\hline\n",
      " 6 & 10.7354 & 1.02927 & 5.06821 \\\\ \\hline\n",
      " 7 & 10.7293 & 1.02895 & 5.06634 \\\\ \\hline\n",
      " 8 & 10.7271 & 1.02884 & 5.06567 \\\\ \\hline\n",
      " 9 & 10.7263 & 1.02879 & 5.06542 \\\\ \\hline\n",
      "\\hline \\hline\n",
      "\\end{tabular} \\hline\n",
      "Obj1 Method 3\n",
      "[12.22882894]\n",
      "1.1711572501368135\n",
      "5.658923345520802\n",
      "0\n",
      "ADF Statistic: -12.92968701478002\n",
      "p-value: 3.7232352206934534e-24\n",
      "True\n",
      "1\n",
      "ADF Statistic: -1.2901612364280708\n",
      "p-value: 0.6336614529626889\n",
      "False\n",
      "2\n",
      "ADF Statistic: -31.191798872159787\n",
      "p-value: 0.0\n",
      "True\n",
      "3\n",
      "ADF Statistic: -21.080273576864354\n",
      "p-value: 0.0\n",
      "True\n",
      "4\n",
      "ADF Statistic: -1.6221561455016182\n",
      "p-value: 0.4715990950653753\n",
      "False\n"
     ]
    }
   ],
   "source": [
    "ar_coeff = [[0.3, 0.6, 0.01, 0.01], [0.3, 0.4, 0.01, 0.01]]\n",
    "initial_value = [[0,0],[0,0],[0,0],[0,0]]\n",
    "a1 = 2;a2 = 3; n_burn = 10000; n_obs = 1000; H = 50; S = 10; n_rep = 100;\n",
    "TestAR3(ar_coeff, a1, a2, initial_value, n_burn, n_obs, H, S, n_rep)"
   ]
  },
  {
   "cell_type": "code",
   "execution_count": 164,
   "id": "9a209bb5-58e1-412b-b8f4-16529d524c08",
   "metadata": {},
   "outputs": [
    {
     "name": "stdout",
     "output_type": "stream",
     "text": [
      "Obj1 Method 2\n",
      "\\begin{tabular}{rrrr}\n",
      "\\hline\n",
      " 0 & 12.4747 & 1.26152 & 3.6372  \\\\ \\hline\n",
      " 1 & 11.5906 & 1.12582 & 3.40724 \\\\ \\hline\n",
      " 2 & 10.7365 & 1.04263 & 3.26674 \\\\ \\hline\n",
      " 3 & 10.43   & 1.01841 & 3.21388 \\\\ \\hline\n",
      " 4 & 10.3042 & 1.00896 & 3.19189 \\\\ \\hline\n",
      " 5 & 10.2534 & 1.00524 & 3.18312 \\\\ \\hline\n",
      " 6 & 10.2339 & 1.00385 & 3.17987 \\\\ \\hline\n",
      " 7 & 10.2271 & 1.00335 & 3.17869 \\\\ \\hline\n",
      " 8 & 10.2247 & 1.00317 & 3.17826 \\\\ \\hline\n",
      " 9 & 10.2238 & 1.0031  & 3.1781  \\\\ \\hline\n",
      "\\hline \\hline\n",
      "\\end{tabular} \\hline\n",
      "Obj1 Method 3\n",
      "[12.47472078]\n",
      "1.2615223708496073\n",
      "3.6371999491683504\n",
      "0\n",
      "ADF Statistic: -8.18778385599414\n",
      "p-value: 7.814645547765297e-13\n",
      "True\n",
      "1\n",
      "ADF Statistic: -0.26476682892874176\n",
      "p-value: 0.9303482928448235\n",
      "False\n",
      "2\n",
      "ADF Statistic: -14.481779269615002\n",
      "p-value: 6.355087420639318e-27\n",
      "True\n",
      "3\n",
      "ADF Statistic: -22.184278653365336\n",
      "p-value: 0.0\n",
      "True\n",
      "4\n",
      "ADF Statistic: -0.5623419071670243\n",
      "p-value: 0.879266220117867\n",
      "False\n"
     ]
    }
   ],
   "source": [
    "ar_coeff = [[0.3, 0.6, 0.01, 0.01], [0.3, 0.4, 0.01, 0.01]]\n",
    "initial_value = [[0,0],[0,0],[0,0],[0,0]]\n",
    "a1 = 2;a2 = 3; n_burn = 10000; n_obs = 500; H = 50; S = 10; n_rep = 100;\n",
    "TestAR3(ar_coeff, a1, a2, initial_value, n_burn, n_obs, H, S, n_rep)"
   ]
  },
  {
   "cell_type": "code",
   "execution_count": 165,
   "id": "89f8532a-9139-4477-92df-33d13f4b4d3a",
   "metadata": {},
   "outputs": [
    {
     "name": "stdout",
     "output_type": "stream",
     "text": [
      "Obj1 Method 2\n",
      "\\begin{tabular}{rrrr}\n",
      "\\hline\n",
      " 0 & 0.013628 & 0.000627 & 0.010095 \\\\ \\hline\n",
      " 1 & 0.018272 & 0.001211 & 0.01013  \\\\ \\hline\n",
      " 2 & 0.018803 & 0.001237 & 0.010132 \\\\ \\hline\n",
      " 3 & 0.018911 & 0.001244 & 0.010132 \\\\ \\hline\n",
      " 4 & 0.018919 & 0.001244 & 0.010132 \\\\ \\hline\n",
      " 5 & 0.018921 & 0.001244 & 0.010132 \\\\ \\hline\n",
      " 6 & 0.018921 & 0.001244 & 0.010132 \\\\ \\hline\n",
      " 7 & 0.018921 & 0.001244 & 0.010132 \\\\ \\hline\n",
      " 8 & 0.018921 & 0.001244 & 0.010132 \\\\ \\hline\n",
      " 9 & 0.018921 & 0.001244 & 0.010132 \\\\ \\hline\n",
      "\\hline \\hline\n",
      "\\end{tabular} \\hline\n",
      "Obj1 Method 3\n",
      "[0.01362849]\n",
      "0.0006270519077294461\n",
      "0.010094724180164629\n",
      "0\n",
      "ADF Statistic: -14.504212563958811\n",
      "p-value: 5.8651005684605185e-27\n",
      "True\n",
      "1\n",
      "ADF Statistic: -9.499891160890916\n",
      "p-value: 3.467863628948745e-16\n",
      "True\n",
      "2\n",
      "ADF Statistic: -32.92800632030438\n",
      "p-value: 0.0\n",
      "True\n",
      "3\n",
      "ADF Statistic: -31.27291338363201\n",
      "p-value: 0.0\n",
      "True\n",
      "4\n",
      "ADF Statistic: -10.806488198183029\n",
      "p-value: 1.957334056759937e-19\n",
      "True\n"
     ]
    }
   ],
   "source": [
    "ar_coeff = [[0.2, 0.3, 0.01, 0.01], [0.3, 0.4, 0.01, 0.01]]\n",
    "initial_value = [[0,0],[0,0],[0,0],[0,0]]\n",
    "a1 = 2;a2 = 3; n_burn = 10000; n_obs = 1000; H = 50; S = 10; n_rep = 100;\n",
    "TestAR3(ar_coeff, a1, a2, initial_value, n_burn, n_obs, H, S, n_rep)"
   ]
  },
  {
   "cell_type": "code",
   "execution_count": 166,
   "id": "d4a5df20-29cc-4a6e-bed6-6a51f68e791c",
   "metadata": {},
   "outputs": [
    {
     "name": "stdout",
     "output_type": "stream",
     "text": [
      "Obj1 Method 2\n",
      "\\begin{tabular}{rrrr}\n",
      "\\hline\n",
      " 0 & 0.016736 & 0.000751 & 0.00987  \\\\ \\hline\n",
      " 1 & 0.01747  & 0.00136  & 0.009912 \\\\ \\hline\n",
      " 2 & 0.018622 & 0.001427 & 0.009922 \\\\ \\hline\n",
      " 3 & 0.018896 & 0.001439 & 0.009923 \\\\ \\hline\n",
      " 4 & 0.018909 & 0.00144  & 0.009923 \\\\ \\hline\n",
      " 5 & 0.018909 & 0.00144  & 0.009923 \\\\ \\hline\n",
      " 6 & 0.018908 & 0.00144  & 0.009923 \\\\ \\hline\n",
      " 7 & 0.018908 & 0.00144  & 0.009923 \\\\ \\hline\n",
      " 8 & 0.018908 & 0.00144  & 0.009923 \\\\ \\hline\n",
      " 9 & 0.018908 & 0.00144  & 0.009923 \\\\ \\hline\n",
      "\\hline \\hline\n",
      "\\end{tabular} \\hline\n",
      "Obj1 Method 3\n",
      "[0.0167362]\n",
      "0.0007507109026570622\n",
      "0.009870150853354876\n",
      "0\n",
      "ADF Statistic: -12.31933569691986\n",
      "p-value: 6.807028100715552e-23\n",
      "True\n",
      "1\n",
      "ADF Statistic: -9.355029526671906\n",
      "p-value: 8.102594065898628e-16\n",
      "True\n",
      "2\n",
      "ADF Statistic: -31.467494316887695\n",
      "p-value: 0.0\n",
      "True\n",
      "3\n",
      "ADF Statistic: -21.49078583918745\n",
      "p-value: 0.0\n",
      "True\n",
      "4\n",
      "ADF Statistic: -10.9798966066448\n",
      "p-value: 7.504663613569457e-20\n",
      "True\n"
     ]
    }
   ],
   "source": [
    "ar_coeff = [[0.25, 0.35, 0.01, 0.01], [0.3, 0.4, 0.01, 0.01]]\n",
    "initial_value = [[0,0],[0,0],[0,0],[0,0]]\n",
    "a1 = 2;a2 = 3; n_burn = 10000; n_obs = 1000; H = 50; S = 10; n_rep = 100;\n",
    "TestAR3(ar_coeff, a1, a2, initial_value, n_burn, n_obs, H, S, n_rep)"
   ]
  },
  {
   "cell_type": "code",
   "execution_count": 167,
   "id": "dcbbd24d-611d-4344-ba6e-8c9c4594b8b3",
   "metadata": {},
   "outputs": [
    {
     "name": "stdout",
     "output_type": "stream",
     "text": [
      "Obj1 Method 2\n",
      "\\begin{tabular}{rrrr}\n",
      "\\hline\n",
      " 0 & 0.019428 & 0.000965 & 0.010163 \\\\ \\hline\n",
      " 1 & 0.015898 & 0.001134 & 0.010186 \\\\ \\hline\n",
      " 2 & 0.015539 & 0.001106 & 0.010182 \\\\ \\hline\n",
      " 3 & 0.015638 & 0.00111  & 0.010182 \\\\ \\hline\n",
      " 4 & 0.015647 & 0.00111  & 0.010182 \\\\ \\hline\n",
      " 5 & 0.015648 & 0.00111  & 0.010182 \\\\ \\hline\n",
      " 6 & 0.015649 & 0.00111  & 0.010183 \\\\ \\hline\n",
      " 7 & 0.015649 & 0.00111  & 0.010183 \\\\ \\hline\n",
      " 8 & 0.015649 & 0.00111  & 0.010183 \\\\ \\hline\n",
      " 9 & 0.015649 & 0.00111  & 0.010183 \\\\ \\hline\n",
      "\\hline \\hline\n",
      "\\end{tabular} \\hline\n",
      "Obj1 Method 3\n",
      "[0.01942808]\n",
      "0.0009653603813862375\n",
      "0.010163249578904989\n",
      "0\n",
      "ADF Statistic: -12.174464646472694\n",
      "p-value: 1.3965080198072585e-22\n",
      "True\n",
      "1\n",
      "ADF Statistic: -8.436365943938716\n",
      "p-value: 1.8121464300847759e-13\n",
      "True\n",
      "2\n",
      "ADF Statistic: -23.72767887358631\n",
      "p-value: 0.0\n",
      "True\n",
      "3\n",
      "ADF Statistic: -31.8452165416224\n",
      "p-value: 0.0\n",
      "True\n",
      "4\n",
      "ADF Statistic: -8.343800851870474\n",
      "p-value: 3.1245082456150857e-13\n",
      "True\n"
     ]
    }
   ],
   "source": [
    "ar_coeff = [[0.25, 0.35, 0.01, 0.01], [0.35, 0.45, 0.01, 0.01]]\n",
    "initial_value = [[0,0],[0,0],[0,0],[0,0]]\n",
    "a1 = 2;a2 = 3; n_burn = 10000; n_obs = 1000; H = 50; S = 10; n_rep = 100;\n",
    "TestAR3(ar_coeff, a1, a2, initial_value, n_burn, n_obs, H, S, n_rep)"
   ]
  },
  {
   "cell_type": "code",
   "execution_count": null,
   "id": "74320dda-0c75-4945-95ee-71ce04335136",
   "metadata": {},
   "outputs": [],
   "source": []
  },
  {
   "cell_type": "code",
   "execution_count": null,
   "id": "ce5fdadd-f001-4e30-98d9-f7d8f5d0986a",
   "metadata": {},
   "outputs": [],
   "source": []
  },
  {
   "cell_type": "code",
   "execution_count": null,
   "id": "c24f433f-cd20-4b6b-bd08-544ffac7a6fd",
   "metadata": {},
   "outputs": [],
   "source": []
  },
  {
   "cell_type": "code",
   "execution_count": 154,
   "id": "5706cbbf-4bd2-4646-a2a5-708dbd1f0771",
   "metadata": {},
   "outputs": [
    {
     "name": "stdout",
     "output_type": "stream",
     "text": [
      "Obj1 Method 2\n",
      "\\begin{tabular}{rrrr}\n",
      "\\hline\n",
      " 0 & 0.058486 & 0.004441 & 0.010316 \\\\ \\hline\n",
      " 1 & 0.026588 & 0.002426 & 0.010073 \\\\ \\hline\n",
      " 2 & 0.018752 & 0.001878 & 0.010016 \\\\ \\hline\n",
      " 3 & 0.018602 & 0.001846 & 0.010013 \\\\ \\hline\n",
      " 4 & 0.018704 & 0.001845 & 0.010013 \\\\ \\hline\n",
      " 5 & 0.018743 & 0.001845 & 0.010013 \\\\ \\hline\n",
      " 6 & 0.018755 & 0.001845 & 0.010013 \\\\ \\hline\n",
      " 7 & 0.018758 & 0.001845 & 0.010013 \\\\ \\hline\n",
      " 8 & 0.018759 & 0.001845 & 0.010013 \\\\ \\hline\n",
      " 9 & 0.018759 & 0.001845 & 0.010013 \\\\ \\hline\n",
      "\\hline \\hline\n",
      "\\end{tabular} \\hline\n",
      "Obj1 Method 3\n",
      "[0.05848602]\n",
      "0.004440926831582975\n",
      "0.010315970029641713\n",
      "0\n",
      "ADF Statistic: -4.962704951185172\n",
      "p-value: 2.6290890263928784e-05\n",
      "True\n",
      "1\n",
      "ADF Statistic: -6.507428492631326\n",
      "p-value: 1.1220665693580062e-08\n",
      "True\n",
      "2\n",
      "ADF Statistic: -14.871588717053648\n",
      "p-value: 1.6602029028812167e-27\n",
      "True\n",
      "3\n",
      "ADF Statistic: -21.578481876611068\n",
      "p-value: 0.0\n",
      "True\n",
      "4\n",
      "ADF Statistic: -6.968431009628373\n",
      "p-value: 8.791319765549042e-10\n",
      "True\n"
     ]
    }
   ],
   "source": [
    "ar_coeff = [[0.3, 0.5, 0.01, 0.01], [0.3, 0.4, 0.01, 0.01]]\n",
    "initial_value = [[0,0],[0,0],[0,0],[0,0]]\n",
    "a1 = 2;a2 = 3; n_burn = 10000; n_obs = 1000; H = 50; S = 10; n_rep = 500;\n",
    "TestAR3(ar_coeff, a1, a2, initial_value, n_burn, n_obs, H, S, n_rep)"
   ]
  },
  {
   "cell_type": "code",
   "execution_count": null,
   "id": "0f0984d6-5031-4a73-a2cf-14bd4806c6ed",
   "metadata": {},
   "outputs": [],
   "source": []
  },
  {
   "cell_type": "code",
   "execution_count": null,
   "id": "fe51d289-bee3-4005-b207-a3c210d8d75b",
   "metadata": {},
   "outputs": [],
   "source": []
  },
  {
   "cell_type": "code",
   "execution_count": null,
   "id": "4cb48ff2-2988-4fad-97ad-7fc7463113b6",
   "metadata": {},
   "outputs": [],
   "source": []
  },
  {
   "cell_type": "code",
   "execution_count": 129,
   "id": "7e3d6fcf-c410-4940-9783-0faeaa392389",
   "metadata": {},
   "outputs": [
    {
     "name": "stdout",
     "output_type": "stream",
     "text": [
      "Obj1 Method 2\n",
      "\\begin{tabular}{rrrr}\n",
      "\\hline\n",
      " 0 & 0.011318 & 0.000268 & 0.009706 \\\\ \\hline\n",
      " 1 & 0.002866 & 0.000267 & 0.009768 \\\\ \\hline\n",
      " 2 & 0.023486 & 0.000662 & 0.009749 \\\\ \\hline\n",
      " 3 & 0.036853 & 0.001378 & 0.009831 \\\\ \\hline\n",
      " 4 & 0.049359 & 0.002332 & 0.009944 \\\\ \\hline\n",
      " 5 & 0.056546 & 0.00301  & 0.01002  \\\\ \\hline\n",
      " 6 & 0.062051 & 0.003588 & 0.010087 \\\\ \\hline\n",
      " 7 & 0.065022 & 0.003917 & 0.010128 \\\\ \\hline\n",
      " 8 & 0.066359 & 0.004071 & 0.010146 \\\\ \\hline\n",
      " 9 & 0.066882 & 0.004131 & 0.010154 \\\\ \\hline\n",
      "\\hline \\hline\n",
      "\\end{tabular} \\hline\n",
      "Obj1 Method 3\n",
      "[0.01131842]\n",
      "0.0002679455523539414\n",
      "0.009706318228604204\n",
      "0\n",
      "ADF Statistic: -10.018989150538435\n",
      "p-value: 1.698752500405283e-17\n",
      "True\n",
      "1\n",
      "ADF Statistic: -8.986301741851626\n",
      "p-value: 7.085903873739003e-15\n",
      "True\n",
      "2\n",
      "ADF Statistic: -5.715007802155122\n",
      "p-value: 7.154438427549727e-07\n",
      "True\n",
      "3\n",
      "ADF Statistic: -6.744854956244183\n",
      "p-value: 3.0533228672510126e-09\n",
      "True\n",
      "4\n",
      "ADF Statistic: -9.297557167686364\n",
      "p-value: 1.1353083050610016e-15\n",
      "True\n"
     ]
    }
   ],
   "source": [
    "ar_coeff = [[0.7, 0.6, 0.5, 0.6], [0.1, 0.2, 0.4, 0.3]]\n",
    "initial_value = [[0,0],[0,0],[0,0],[0,0]]\n",
    "a1 = 2;a2 = 3; n_burn = 10000; n_obs = 1000; H = 50; S = 10; n_rep = 1;\n",
    "TestAR3(ar_coeff, a1, a2, initial_value, n_burn, n_obs, H, S, n_rep)"
   ]
  },
  {
   "cell_type": "code",
   "execution_count": 142,
   "id": "e5852489-54a1-49e8-b5f5-3f3cadc21d33",
   "metadata": {},
   "outputs": [
    {
     "name": "stdout",
     "output_type": "stream",
     "text": [
      "Obj1 Method 2\n",
      "\\begin{tabular}{rrrr}\n",
      "\\hline\n",
      " 0 & 0.008875 & 0.000275 & 0.010087 \\\\ \\hline\n",
      " 1 & 0.050608 & 0.003034 & 0.010536 \\\\ \\hline\n",
      " 2 & 0.084375 & 0.007192 & 0.011204 \\\\ \\hline\n",
      " 3 & 0.108016 & 0.011107 & 0.011833 \\\\ \\hline\n",
      " 4 & 0.123199 & 0.014034 & 0.012301 \\\\ \\hline\n",
      " 5 & 0.132316 & 0.015917 & 0.0126   \\\\ \\hline\n",
      " 6 & 0.137415 & 0.017011 & 0.012775 \\\\ \\hline\n",
      " 7 & 0.140049 & 0.017586 & 0.012867 \\\\ \\hline\n",
      " 8 & 0.141417 & 0.017887 & 0.012915 \\\\ \\hline\n",
      " 9 & 0.142111 & 0.01804  & 0.012939 \\\\ \\hline\n",
      "\\hline \\hline\n",
      "\\end{tabular} \\hline\n",
      "Obj1 Method 3\n",
      "[0.00887459]\n",
      "0.0002750496001124813\n",
      "0.010086833060543537\n",
      "0\n",
      "ADF Statistic: -8.782694274512012\n",
      "p-value: 2.3532443047446068e-14\n",
      "True\n",
      "1\n",
      "ADF Statistic: -7.2618269584386725\n",
      "p-value: 1.6737792259231948e-10\n",
      "True\n",
      "2\n",
      "ADF Statistic: -5.688088485655151\n",
      "p-value: 8.190554126621876e-07\n",
      "True\n",
      "3\n",
      "ADF Statistic: -5.253300761118566\n",
      "p-value: 6.836707458053882e-06\n",
      "True\n",
      "4\n",
      "ADF Statistic: -6.742909825704789\n",
      "p-value: 3.086331575927344e-09\n",
      "True\n"
     ]
    }
   ],
   "source": [
    "ar_coeff = [[0.7, 0.6, 0.5, 0.6], [0.1, 0.2, 0.4, 0.3]]\n",
    "initial_value = [[0,0],[0,0],[0,0],[0,0]]\n",
    "a1 = 2;a2 = 3; n_burn = 10000; n_obs = 1000; H = 50; S = 10; n_rep = 500;\n",
    "TestAR3(ar_coeff, a1, a2, initial_value, n_burn, n_obs, H, S, n_rep)"
   ]
  },
  {
   "cell_type": "code",
   "execution_count": 136,
   "id": "6822b43f-33aa-4dda-be18-d21e86d7edf9",
   "metadata": {},
   "outputs": [
    {
     "name": "stdout",
     "output_type": "stream",
     "text": [
      "Obj1 Method 2\n",
      "\\begin{tabular}{rrrr}\n",
      "\\hline\n",
      " 0 & 0.005467 & 9.5e-05  & 0.009872 \\\\ \\hline\n",
      " 1 & 0.040577 & 0.001796 & 0.010189 \\\\ \\hline\n",
      " 2 & 0.066103 & 0.004293 & 0.010614 \\\\ \\hline\n",
      " 3 & 0.082829 & 0.006539 & 0.010992 \\\\ \\hline\n",
      " 4 & 0.093376 & 0.008145 & 0.011258 \\\\ \\hline\n",
      " 5 & 0.099728 & 0.00919  & 0.011431 \\\\ \\hline\n",
      " 6 & 0.103586 & 0.009849 & 0.011539 \\\\ \\hline\n",
      " 7 & 0.105804 & 0.010235 & 0.011603 \\\\ \\hline\n",
      " 8 & 0.107025 & 0.010449 & 0.011638 \\\\ \\hline\n",
      " 9 & 0.107617 & 0.010554 & 0.011655 \\\\ \\hline\n",
      "\\hline \\hline\n",
      "\\end{tabular} \\hline\n",
      "Obj1 Method 3\n",
      "[0.00546669]\n",
      "9.541168918555044e-05\n",
      "0.009871546308262725\n",
      "0\n",
      "ADF Statistic: -14.406670178360285\n",
      "p-value: 8.335365340325988e-27\n",
      "True\n",
      "1\n",
      "ADF Statistic: -13.78803712279489\n",
      "p-value: 9.034830169977841e-26\n",
      "True\n",
      "2\n",
      "ADF Statistic: -8.070329583538978\n",
      "p-value: 1.555785462674028e-12\n",
      "True\n",
      "3\n",
      "ADF Statistic: -9.637407003233808\n",
      "p-value: 1.5532219191371885e-16\n",
      "True\n",
      "4\n",
      "ADF Statistic: -14.454290533339785\n",
      "p-value: 7.015089465177361e-27\n",
      "True\n"
     ]
    }
   ],
   "source": [
    "ar_coeff = [[0.7, 0.6, 0.5, 0.6], [0.1, 0.2, 0.4, 0.3]]\n",
    "initial_value = [[0,0],[0,0],[0,0],[0,0]]\n",
    "a1 = 2;a2 = 3; n_burn = 10000; n_obs = 2000; H = 50; S = 10; n_rep = 100;\n",
    "TestAR3(ar_coeff, a1, a2, initial_value, n_burn, n_obs, H, S, n_rep)"
   ]
  },
  {
   "cell_type": "code",
   "execution_count": null,
   "id": "8826101c-d044-414f-a71c-56ab182f200d",
   "metadata": {},
   "outputs": [],
   "source": []
  },
  {
   "cell_type": "code",
   "execution_count": 147,
   "id": "af4dc40f-3b8f-4a8c-a8e0-999a10caee2c",
   "metadata": {},
   "outputs": [
    {
     "name": "stdout",
     "output_type": "stream",
     "text": [
      "Obj1 Method 2\n",
      "\\begin{tabular}{rrrr}\n",
      "\\hline\n",
      " 0 & 0.020347 & 0.001373 & 0.010187 \\\\ \\hline\n",
      " 1 & 0.037467 & 0.002894 & 0.010415 \\\\ \\hline\n",
      " 2 & 0.054417 & 0.004746 & 0.010705 \\\\ \\hline\n",
      " 3 & 0.066517 & 0.006334 & 0.010943 \\\\ \\hline\n",
      " 4 & 0.073042 & 0.00726  & 0.011085 \\\\ \\hline\n",
      " 5 & 0.07677  & 0.007814 & 0.01117  \\\\ \\hline\n",
      " 6 & 0.07861  & 0.008091 & 0.011211 \\\\ \\hline\n",
      " 7 & 0.079578 & 0.008237 & 0.011233 \\\\ \\hline\n",
      " 8 & 0.079996 & 0.008301 & 0.011243 \\\\ \\hline\n",
      " 9 & 0.080207 & 0.008331 & 0.011247 \\\\ \\hline\n",
      "\\hline \\hline\n",
      "\\end{tabular} \\hline\n",
      "Obj1 Method 3\n",
      "[0.02034651]\n",
      "0.0013725601260750975\n",
      "0.01018736508943901\n",
      "0\n",
      "ADF Statistic: -9.804612131080384\n",
      "p-value: 5.871215554779925e-17\n",
      "True\n",
      "1\n",
      "ADF Statistic: -8.592370864243811\n",
      "p-value: 7.228066743483939e-14\n",
      "True\n",
      "2\n",
      "ADF Statistic: -6.198533580906149\n",
      "p-value: 5.8840366239061113e-08\n",
      "True\n",
      "3\n",
      "ADF Statistic: -7.36918398880924\n",
      "p-value: 9.066443109685473e-11\n",
      "True\n",
      "4\n",
      "ADF Statistic: -8.958929219894864\n",
      "p-value: 8.326182764159356e-15\n",
      "True\n"
     ]
    }
   ],
   "source": [
    "ar_coeff = [[0.7, 0.6, 0.5, 0.6], [0.1, 0.2, 0.4, 0.3]]\n",
    "initial_value = [[0,0],[0,0],[0,0],[0,0]]\n",
    "a1 = 2;a2 = 3; n_burn = 10000; n_obs = 1000; H = 5; S = 10; n_rep = 100;\n",
    "TestAR3(ar_coeff, a1, a2, initial_value, n_burn, n_obs, H, S, n_rep)"
   ]
  },
  {
   "cell_type": "code",
   "execution_count": 146,
   "id": "727bfe84-25ea-489f-be88-72f155c53ab5",
   "metadata": {},
   "outputs": [
    {
     "name": "stdout",
     "output_type": "stream",
     "text": [
      "Obj1 Method 2\n",
      "\\begin{tabular}{rrrr}\n",
      "\\hline\n",
      " 0 & 0.02609  & 0.002308 & 0.010513 \\\\ \\hline\n",
      " 1 & 0.042616 & 0.004689 & 0.010903 \\\\ \\hline\n",
      " 2 & 0.061876 & 0.007113 & 0.011271 \\\\ \\hline\n",
      " 3 & 0.075181 & 0.009148 & 0.01158  \\\\ \\hline\n",
      " 4 & 0.081959 & 0.010236 & 0.011741 \\\\ \\hline\n",
      " 5 & 0.085605 & 0.010821 & 0.011828 \\\\ \\hline\n",
      " 6 & 0.087514 & 0.01112  & 0.011872 \\\\ \\hline\n",
      " 7 & 0.088561 & 0.011283 & 0.011897 \\\\ \\hline\n",
      " 8 & 0.089032 & 0.011353 & 0.011907 \\\\ \\hline\n",
      " 9 & 0.089291 & 0.011391 & 0.011912 \\\\ \\hline\n",
      "\\hline \\hline\n",
      "\\end{tabular} \\hline\n",
      "Obj1 Method 3\n",
      "[0.02608965]\n",
      "0.0023078093058364686\n",
      "0.010512618090558217\n",
      "0\n",
      "ADF Statistic: -7.295488592446139\n",
      "p-value: 1.3815134810483983e-10\n",
      "True\n",
      "1\n",
      "ADF Statistic: -6.438489039155308\n",
      "p-value: 1.6302328514942316e-08\n",
      "True\n",
      "2\n",
      "ADF Statistic: -4.317676627962533\n",
      "p-value: 0.0004139235721223278\n",
      "True\n",
      "3\n",
      "ADF Statistic: -4.8701504189600255\n",
      "p-value: 3.985294801693339e-05\n",
      "True\n",
      "4\n",
      "ADF Statistic: -6.667032168358657\n",
      "p-value: 4.689423368354186e-09\n",
      "True\n"
     ]
    }
   ],
   "source": [
    "ar_coeff = [[0.7, 0.6, 0.5, 0.6], [0.1, 0.2, 0.4, 0.3]]\n",
    "initial_value = [[0,0],[0,0],[0,0],[0,0]]\n",
    "a1 = 2;a2 = 3; n_burn = 10000; n_obs = 500; H = 5; S = 10; n_rep = 100;\n",
    "TestAR3(ar_coeff, a1, a2, initial_value, n_burn, n_obs, H, S, n_rep)"
   ]
  },
  {
   "cell_type": "code",
   "execution_count": null,
   "id": "9e0cdf3e-8461-464c-9313-a29740a73e8b",
   "metadata": {},
   "outputs": [],
   "source": []
  },
  {
   "cell_type": "code",
   "execution_count": null,
   "id": "f13931f3-9eea-4b84-b53e-90fbc914436a",
   "metadata": {},
   "outputs": [],
   "source": []
  },
  {
   "cell_type": "code",
   "execution_count": null,
   "id": "3ae6c0d3-5ce5-4499-b50f-cb8f98fb4c76",
   "metadata": {},
   "outputs": [],
   "source": []
  },
  {
   "cell_type": "code",
   "execution_count": null,
   "id": "ef930d08-b44f-4543-84a3-107dfa53520d",
   "metadata": {},
   "outputs": [],
   "source": []
  },
  {
   "cell_type": "code",
   "execution_count": null,
   "id": "efeca2f5-2504-471f-ac81-7a0232986cef",
   "metadata": {},
   "outputs": [],
   "source": []
  },
  {
   "cell_type": "code",
   "execution_count": null,
   "id": "1bf0005a-e885-4119-a1c7-29c51d6224cf",
   "metadata": {},
   "outputs": [],
   "source": []
  },
  {
   "cell_type": "code",
   "execution_count": null,
   "id": "3ab684aa-e998-445e-91b8-4820e34665da",
   "metadata": {},
   "outputs": [],
   "source": []
  },
  {
   "cell_type": "code",
   "execution_count": null,
   "id": "10006767-04d4-4f79-b2cd-b41ba28e028b",
   "metadata": {},
   "outputs": [],
   "source": []
  },
  {
   "cell_type": "code",
   "execution_count": null,
   "id": "28ddc071-69e8-41cb-9f2f-6438063449a8",
   "metadata": {},
   "outputs": [],
   "source": []
  },
  {
   "cell_type": "code",
   "execution_count": null,
   "id": "c5c093d7-c77c-4167-b6bb-dc34c866585d",
   "metadata": {},
   "outputs": [],
   "source": []
  },
  {
   "cell_type": "code",
   "execution_count": null,
   "id": "4219a459-6f6e-463f-916b-02040d445d2a",
   "metadata": {},
   "outputs": [],
   "source": []
  },
  {
   "cell_type": "code",
   "execution_count": null,
   "id": "2d658cd4-c9ae-4c77-adde-3837649b3e1e",
   "metadata": {},
   "outputs": [],
   "source": []
  },
  {
   "cell_type": "code",
   "execution_count": null,
   "id": "f391889e-3848-42c3-a2e7-f065edb207be",
   "metadata": {},
   "outputs": [],
   "source": []
  },
  {
   "cell_type": "code",
   "execution_count": 132,
   "id": "ee0cb5b8-6ba0-4d5b-9bce-b95832c344e5",
   "metadata": {},
   "outputs": [
    {
     "name": "stdout",
     "output_type": "stream",
     "text": [
      "Obj1 Method 2\n",
      "\\begin{tabular}{rrrr}\n",
      "\\hline\n",
      " 0 & 0.003478 & 1.3e-05  & 0.010025 \\\\ \\hline\n",
      " 1 & 0.030674 & 0.000931 & 0.010056 \\\\ \\hline\n",
      " 2 & 0.029539 & 0.000862 & 0.010052 \\\\ \\hline\n",
      " 3 & 0.029407 & 0.000855 & 0.01005  \\\\ \\hline\n",
      " 4 & 0.02941  & 0.000855 & 0.01005  \\\\ \\hline\n",
      "\\hline \\hline\n",
      "\\end{tabular} \\hline\n",
      "Obj1 Method 3\n",
      "[0.00347778]\n",
      "1.282975244347604e-05\n",
      "0.01002503592592138\n",
      "0\n",
      "ADF Statistic: -8.33498415624334\n",
      "p-value: 3.29081434060191e-13\n",
      "True\n",
      "1\n",
      "ADF Statistic: -8.754592336677064\n",
      "p-value: 2.777373342057975e-14\n",
      "True\n",
      "2\n",
      "ADF Statistic: -7.280286288385459\n",
      "p-value: 1.506645589689754e-10\n",
      "True\n",
      "3\n",
      "ADF Statistic: -6.444471766723444\n",
      "p-value: 1.5783608632627658e-08\n",
      "True\n",
      "4\n",
      "ADF Statistic: -10.66972593830038\n",
      "p-value: 4.197367302558998e-19\n",
      "True\n"
     ]
    }
   ],
   "source": [
    "ar_coeff = [[0.3, 0.2, 0.5, 0.6], [0.5, 0.45, 0.4, 0.3]]\n",
    "initial_value = [[0,0],[0,0],[0,0],[0,0]]\n",
    "a1 = 2;a2 = 3; n_burn = 10000; n_obs = 1000; H = 5; S = 5; n_rep = 1;\n",
    "TestAR3(ar_coeff, a1, a2, initial_value, n_burn, n_obs, H, S, n_rep)"
   ]
  },
  {
   "cell_type": "code",
   "execution_count": 133,
   "id": "c6caca14-ba80-4cfc-8e40-d0572fe810c2",
   "metadata": {},
   "outputs": [
    {
     "name": "stdout",
     "output_type": "stream",
     "text": [
      "Obj1 Method 2\n",
      "\\begin{tabular}{rrrr}\n",
      "\\hline\n",
      " 0 & 0.012541 & 0.000384 & 0.010086 \\\\ \\hline\n",
      " 1 & 0.026405 & 0.001045 & 0.010173 \\\\ \\hline\n",
      " 2 & 0.025706 & 0.001011 & 0.01017  \\\\ \\hline\n",
      " 3 & 0.025958 & 0.001029 & 0.010172 \\\\ \\hline\n",
      " 4 & 0.025988 & 0.001032 & 0.010173 \\\\ \\hline\n",
      " 5 & 0.025995 & 0.001033 & 0.010173 \\\\ \\hline\n",
      " 6 & 0.025996 & 0.001033 & 0.010173 \\\\ \\hline\n",
      " 7 & 0.025996 & 0.001033 & 0.010173 \\\\ \\hline\n",
      " 8 & 0.025996 & 0.001033 & 0.010173 \\\\ \\hline\n",
      " 9 & 0.025996 & 0.001033 & 0.010173 \\\\ \\hline\n",
      "\\hline \\hline\n",
      "\\end{tabular} \\hline\n",
      "Obj1 Method 3\n",
      "[0.01254139]\n",
      "0.0003837790253176948\n",
      "0.010085606296173506\n",
      "0\n",
      "ADF Statistic: -8.771071688962135\n",
      "p-value: 2.520180190479432e-14\n",
      "True\n",
      "1\n",
      "ADF Statistic: -7.9746944225576675\n",
      "p-value: 2.7221160621279564e-12\n",
      "True\n",
      "2\n",
      "ADF Statistic: -5.286151117031028\n",
      "p-value: 5.849171528723386e-06\n",
      "True\n",
      "3\n",
      "ADF Statistic: -6.429534887883107\n",
      "p-value: 1.7110200452098555e-08\n",
      "True\n",
      "4\n",
      "ADF Statistic: -7.772066256334092\n",
      "p-value: 8.866723634409476e-12\n",
      "True\n"
     ]
    }
   ],
   "source": [
    "ar_coeff = [[0.3, 0.2, 0.5, 0.6], [0.5, 0.45, 0.4, 0.3]]\n",
    "initial_value = [[0,0],[0,0],[0,0],[0,0]]\n",
    "a1 = 2;a2 = 3; n_burn = 10000; n_obs = 1000; H = 50; S = 10; n_rep = 100;\n",
    "TestAR3(ar_coeff, a1, a2, initial_value, n_burn, n_obs, H, S, n_rep)"
   ]
  },
  {
   "cell_type": "code",
   "execution_count": null,
   "id": "86eb71e7-7413-4d95-b3ac-17284fd0024d",
   "metadata": {},
   "outputs": [],
   "source": []
  },
  {
   "cell_type": "code",
   "execution_count": null,
   "id": "077cedb7-df97-4482-870c-bdb8e0d81fe4",
   "metadata": {},
   "outputs": [],
   "source": []
  },
  {
   "cell_type": "code",
   "execution_count": null,
   "id": "ede7861d-e490-4a80-aca9-bf35e4f3ab42",
   "metadata": {},
   "outputs": [],
   "source": []
  },
  {
   "cell_type": "code",
   "execution_count": 98,
   "id": "159f5450-38e3-4f9c-9c71-91aba4063b55",
   "metadata": {},
   "outputs": [
    {
     "data": {
      "text/plain": [
       "array([[ 0.51731644],\n",
       "       [ 0.85567701],\n",
       "       [-0.00747533],\n",
       "       [-0.0120282 ],\n",
       "       [ 0.        ],\n",
       "       [ 0.        ],\n",
       "       [ 0.        ],\n",
       "       [ 0.        ]])"
      ]
     },
     "execution_count": 98,
     "metadata": {},
     "output_type": "execute_result"
    }
   ],
   "source": [
    "compute_eigen(Mhat @ V1[0] @ Mhat, P1, K)"
   ]
  },
  {
   "cell_type": "code",
   "execution_count": 99,
   "id": "e535b8ea-e301-41e9-8281-e316084d0747",
   "metadata": {},
   "outputs": [
    {
     "data": {
      "text/plain": [
       "array([[ 0.5598016 ],\n",
       "       [ 0.82840865],\n",
       "       [ 0.01646763],\n",
       "       [-0.00949118]])"
      ]
     },
     "execution_count": 99,
     "metadata": {},
     "output_type": "execute_result"
    }
   ],
   "source": [
    "edr_est_3"
   ]
  },
  {
   "cell_type": "code",
   "execution_count": 83,
   "id": "bd605c02-35ef-4e55-94c4-ea22805112d7",
   "metadata": {},
   "outputs": [
    {
     "data": {
      "text/plain": [
       "array([[2286.79517586, 2708.37648782,    8.14821842,  -85.29883119,\n",
       "           0.        ,    0.        ,    0.        ,    0.        ],\n",
       "       [2708.37648782, 5281.9686009 ,   11.70324867,   53.72905945,\n",
       "           0.        ,    0.        ,    0.        ,    0.        ],\n",
       "       [   8.14821842,   11.70324867,  269.17491866,   33.8127306 ,\n",
       "           0.        ,    0.        ,    0.        ,    0.        ],\n",
       "       [ -85.29883119,   53.72905945,   33.8127306 ,  244.67119672,\n",
       "           0.        ,    0.        ,    0.        ,    0.        ],\n",
       "       [   0.        ,    0.        ,    0.        ,    0.        ,\n",
       "           0.        ,    0.        ,    0.        ,    0.        ],\n",
       "       [   0.        ,    0.        ,    0.        ,    0.        ,\n",
       "           0.        ,    0.        ,    0.        ,    0.        ],\n",
       "       [   0.        ,    0.        ,    0.        ,    0.        ,\n",
       "           0.        ,    0.        ,    0.        ,    0.        ],\n",
       "       [   0.        ,    0.        ,    0.        ,    0.        ,\n",
       "           0.        ,    0.        ,    0.        ,    0.        ]])"
      ]
     },
     "execution_count": 83,
     "metadata": {},
     "output_type": "execute_result"
    }
   ],
   "source": [
    "Mhat @ V1[0] @ Mhat"
   ]
  },
  {
   "cell_type": "code",
   "execution_count": 87,
   "id": "966be9ad-9d36-49ab-aaac-3ae636a54b4b",
   "metadata": {},
   "outputs": [
    {
     "data": {
      "text/plain": [
       "array([[2286.79517586, 2708.37648782,    8.14821842,  -85.29883119],\n",
       "       [2708.37648782, 5281.9686009 ,   11.70324867,   53.72905945],\n",
       "       [   8.14821842,   11.70324867,  269.17491866,   33.8127306 ],\n",
       "       [ -85.29883119,   53.72905945,   33.8127306 ,  244.67119672]])"
      ]
     },
     "execution_count": 87,
     "metadata": {},
     "output_type": "execute_result"
    }
   ],
   "source": [
    "np.linalg.inv(np.cov(X3.T)) @ M1 @ np.linalg.inv(np.cov(X3.T))"
   ]
  },
  {
   "cell_type": "code",
   "execution_count": 100,
   "id": "464f3668-2d6a-42ea-b156-d2aabf218231",
   "metadata": {},
   "outputs": [
    {
     "data": {
      "text/plain": [
       "array([[ 0.51731644],\n",
       "       [ 0.85567701],\n",
       "       [-0.00747533],\n",
       "       [-0.0120282 ]])"
      ]
     },
     "execution_count": 100,
     "metadata": {},
     "output_type": "execute_result"
    }
   ],
   "source": [
    "compute_eigen(np.linalg.inv(np.cov(X3.T)) @ M1 @ np.linalg.inv(np.cov(X3.T)), P, K)"
   ]
  },
  {
   "cell_type": "code",
   "execution_count": null,
   "id": "fe9cc8b5-153d-4086-9800-21ba230ded83",
   "metadata": {},
   "outputs": [],
   "source": []
  },
  {
   "cell_type": "code",
   "execution_count": 72,
   "id": "981a9af7-cd93-4910-b0db-876eec406851",
   "metadata": {},
   "outputs": [
    {
     "data": {
      "text/plain": [
       "array([[41.16490901, -9.89853288,  2.59821742, -3.49824055],\n",
       "       [-9.89853288, 75.17472664, -2.724072  ,  1.7954255 ],\n",
       "       [ 2.59821742, -2.724072  , 25.5333908 , -0.14301766],\n",
       "       [-3.49824055,  1.7954255 , -0.14301766, 22.78737646]])"
      ]
     },
     "execution_count": 72,
     "metadata": {},
     "output_type": "execute_result"
    }
   ],
   "source": [
    "np.linalg.inv(np.cov(X3.T))"
   ]
  },
  {
   "cell_type": "code",
   "execution_count": 73,
   "id": "4ea5aa57-6377-4213-a0b5-d937405624b4",
   "metadata": {},
   "outputs": [
    {
     "data": {
      "text/plain": [
       "array([[41.16490901, -9.89853288,  2.59821742, -3.49824055,  0.        ,\n",
       "         0.        ,  0.        ,  0.        ],\n",
       "       [-9.89853288, 75.17472664, -2.724072  ,  1.7954255 ,  0.        ,\n",
       "         0.        ,  0.        ,  0.        ],\n",
       "       [ 2.59821742, -2.724072  , 25.5333908 , -0.14301766,  0.        ,\n",
       "         0.        ,  0.        ,  0.        ],\n",
       "       [-3.49824055,  1.7954255 , -0.14301766, 22.78737646,  0.        ,\n",
       "         0.        ,  0.        ,  0.        ],\n",
       "       [ 0.        ,  0.        ,  0.        ,  0.        ,  0.        ,\n",
       "         0.        ,  0.        ,  0.        ],\n",
       "       [ 0.        ,  0.        ,  0.        ,  0.        ,  0.        ,\n",
       "         0.        ,  0.        ,  0.        ],\n",
       "       [ 0.        ,  0.        ,  0.        ,  0.        ,  0.        ,\n",
       "         0.        ,  0.        ,  0.        ],\n",
       "       [ 0.        ,  0.        ,  0.        ,  0.        ,  0.        ,\n",
       "         0.        ,  0.        ,  0.        ]])"
      ]
     },
     "execution_count": 73,
     "metadata": {},
     "output_type": "execute_result"
    }
   ],
   "source": [
    "Mhat"
   ]
  },
  {
   "cell_type": "code",
   "execution_count": 77,
   "id": "09aef581-f356-4026-8a04-634d1ae001e1",
   "metadata": {},
   "outputs": [
    {
     "data": {
      "text/plain": [
       "array([[ 0.51419669],\n",
       "       [ 0.85766146],\n",
       "       [ 0.0012241 ],\n",
       "       [-0.00413351],\n",
       "       [-0.        ],\n",
       "       [-0.        ],\n",
       "       [-0.        ],\n",
       "       [-0.        ]])"
      ]
     },
     "execution_count": 77,
     "metadata": {},
     "output_type": "execute_result"
    }
   ],
   "source": [
    "edr_est"
   ]
  },
  {
   "cell_type": "code",
   "execution_count": 76,
   "id": "08ada717-4e5d-4f36-abb6-e1bb90e61c93",
   "metadata": {},
   "outputs": [
    {
     "data": {
      "text/plain": [
       "0.21381291702959673"
      ]
     },
     "execution_count": 76,
     "metadata": {},
     "output_type": "execute_result"
    }
   ],
   "source": [
    "12.69491037/59.37391691"
   ]
  },
  {
   "cell_type": "code",
   "execution_count": 75,
   "id": "726e1548-1f54-4983-8ef3-b25ba0fb13b6",
   "metadata": {},
   "outputs": [
    {
     "data": {
      "text/plain": [
       "array([[ 0.51419669],\n",
       "       [ 0.85766146],\n",
       "       [ 0.0012241 ],\n",
       "       [-0.00413351],\n",
       "       [-0.        ],\n",
       "       [-0.        ],\n",
       "       [-0.        ],\n",
       "       [-0.        ]])"
      ]
     },
     "execution_count": 75,
     "metadata": {},
     "output_type": "execute_result"
    }
   ],
   "source": [
    "edr_est"
   ]
  },
  {
   "cell_type": "code",
   "execution_count": null,
   "id": "bf7ba8f8-2579-4066-a637-def94fd8028f",
   "metadata": {},
   "outputs": [],
   "source": []
  },
  {
   "cell_type": "code",
   "execution_count": 6,
   "id": "654d49f5-e17e-4043-83b3-0e027fa510ee",
   "metadata": {},
   "outputs": [
    {
     "data": {
      "text/plain": [
       "(1000, 8)"
      ]
     },
     "execution_count": 6,
     "metadata": {},
     "output_type": "execute_result"
    }
   ],
   "source": [
    "X2.shape"
   ]
  },
  {
   "cell_type": "code",
   "execution_count": 8,
   "id": "a6667880-0abc-4f47-8767-6eb2bc73242f",
   "metadata": {},
   "outputs": [
    {
     "data": {
      "text/plain": [
       "(1000, 4)"
      ]
     },
     "execution_count": 8,
     "metadata": {},
     "output_type": "execute_result"
    }
   ],
   "source": [
    "X3.shape"
   ]
  },
  {
   "cell_type": "code",
   "execution_count": 80,
   "id": "95c4f58a-e0b0-49cf-88b8-12a402b3d365",
   "metadata": {},
   "outputs": [
    {
     "data": {
      "text/plain": [
       "array([[ 0.79564911],\n",
       "       [ 0.59559885],\n",
       "       [-0.00800483],\n",
       "       [ 0.11018361],\n",
       "       [ 0.        ],\n",
       "       [ 0.        ],\n",
       "       [ 0.        ],\n",
       "       [ 0.        ]])"
      ]
     },
     "execution_count": 80,
     "metadata": {},
     "output_type": "execute_result"
    }
   ],
   "source": [
    "edr_est_2, M = sir_11(X2, y[0], H, K)\n",
    "compute_eigen(M, P1, K)\n",
    "# edr_est_2"
   ]
  },
  {
   "cell_type": "code",
   "execution_count": 81,
   "id": "cebd991a-7353-4b43-a6de-9585e7aa3a83",
   "metadata": {},
   "outputs": [
    {
     "data": {
      "text/plain": [
       "array([[ 0.79564911],\n",
       "       [ 0.59559885],\n",
       "       [-0.00800483],\n",
       "       [ 0.11018361],\n",
       "       [ 0.        ],\n",
       "       [ 0.        ],\n",
       "       [ 0.        ],\n",
       "       [ 0.        ]])"
      ]
     },
     "execution_count": 81,
     "metadata": {},
     "output_type": "execute_result"
    }
   ],
   "source": [
    "edr_est_2"
   ]
  },
  {
   "cell_type": "code",
   "execution_count": 52,
   "id": "ee83f07b-1c21-47f7-ba4a-d4985b5cdeb8",
   "metadata": {},
   "outputs": [
    {
     "data": {
      "text/plain": [
       "array([[-0.71633185],\n",
       "       [-0.69281519],\n",
       "       [ 0.00844189],\n",
       "       [-0.08248953]])"
      ]
     },
     "execution_count": 52,
     "metadata": {},
     "output_type": "execute_result"
    }
   ],
   "source": [
    "edr_est_3, _ = sir_11(X3, y[0], H, K)\n",
    "edr_est_3"
   ]
  },
  {
   "cell_type": "code",
   "execution_count": 5,
   "id": "cfc70cad-b77c-4573-a87b-3ddf1c96a386",
   "metadata": {},
   "outputs": [
    {
     "name": "stdout",
     "output_type": "stream",
     "text": [
      "0: [ 0.17378347 -0.12371793  0.07634439 ... -0.22366648  0.00068112\n",
      " -0.02805279]\n",
      "ADF Statistic: -8.55313458149805\n",
      "p-value: 9.108683605001782e-14\n",
      "True\n",
      "1: [-0.02337402 -0.16199375 -0.10419813 ... -0.15886319 -0.10491914\n",
      " -0.15396358]\n",
      "ADF Statistic: -4.959811870735999\n",
      "p-value: 2.6637579223943907e-05\n",
      "True\n",
      "2: [ 0.1209778   0.16833169  0.22457688 ... -0.40238567 -0.30292872\n",
      " -0.40199478]\n",
      "ADF Statistic: -5.678645416482212\n",
      "p-value: 8.587638325787732e-07\n",
      "True\n",
      "3: [-0.25017749 -0.35220506 -0.34134824 ... -0.02347659  0.1018719\n",
      "  0.10096104]\n",
      "ADF Statistic: -6.673130233035014\n",
      "p-value: 4.534760220298469e-09\n",
      "True\n",
      "4: [ 0.          0.         -0.08522755 ... -0.9828543  -0.31626927\n",
      " -0.46045895]\n",
      "ADF Statistic: -7.032641101913379\n",
      "p-value: 6.128980776411583e-10\n",
      "True\n"
     ]
    }
   ],
   "source": [
    "#6. Stationarity Test. You can use the Augmented Dickey-Fuller test to check if the time series is stationary (indicating convergence).\n",
    "from statsmodels.tsa.stattools import adfuller\n",
    "def check_stationarity(post_burn_samples):\n",
    "    result = adfuller(post_burn_samples)\n",
    "    print(f'ADF Statistic: {result[0]}')\n",
    "    print(f'p-value: {result[1]}')\n",
    "    return result[1] < 0.05  # Stationary if p-value < 0.05\n",
    "# Example usage:\n",
    "# check_stationarity(samples, burn_in=1000)\n",
    "for i in range(P+1):\n",
    "    print(f\"{i}: {ar_series[i]}\")\n",
    "    print(check_stationarity(ar_series[i]))"
   ]
  },
  {
   "cell_type": "code",
   "execution_count": null,
   "id": "007463ed-e132-41a1-8936-1cde8756cc69",
   "metadata": {},
   "outputs": [],
   "source": []
  },
  {
   "cell_type": "markdown",
   "id": "c28c436a-7a03-42c6-a4e7-ac3754edb9fa",
   "metadata": {
    "jp-MarkdownHeadingCollapsed": true
   },
   "source": [
    "## True_projection_2p = np.array([[2],[3],[0],[0],[0],[0],[0],[0]])"
   ]
  },
  {
   "cell_type": "code",
   "execution_count": 5,
   "id": "ae5d450a-e659-46b8-8bf2-da45235e6675",
   "metadata": {},
   "outputs": [],
   "source": [
    "# X_{t}, X_{t-1}\n",
    "\n",
    "# def TestAR21(ar_coeff, a1, a2, initial_value, n_gene, n_obs, H, S, n_rep):\n",
    "ar_coeff = [[0.1, 0.3, 0.2, 0.2], [0.2, 0.3, 0.5, 0.8]]\n",
    "initial_value = [[0,0],[0,0],[0,0],[0,0]]\n",
    "a1 = 2;a2 = 3; n_gene = 10000; n_obs = 1000; H = 50; S = 10; n_rep = 100\n",
    "ARnum = 2; num_N = 5;P = 4;K = 1;n1 = 0;l = 1; p = 2; P1 = 2*P; AR = initial_value\n",
    "noise1 = np.zeros((num_N, n_gene))\n",
    "noise2 = np.zeros((num_N, n_obs+S+3))\n",
    "y = [np.zeros((num_N, n_obs+i)) for i in range(S)]\n",
    "X1 = [[np.zeros((num_N, 2*n_obs)) for i in range(P)] for i in range(S)]\n",
    "obj_1 = [np.zeros((P, 1)) for _ in range(S)]  \n",
    "obj_2 = [np.zeros((P1, 1)) for _ in range(S)]  \n",
    "prediction_mse_1_1 = [np.zeros((1, 1)) for _ in range(S)]\n",
    "prediction_mse_1_2 = [np.zeros((1, 1)) for _ in range(S)]\n",
    "\n",
    "prediction_mse_2 = [np.zeros((1, 1)) for _ in range(S)]\n",
    "M = [np.zeros((P, 1)) for _ in range(S)] \n",
    "proj_error_1_1 = [np.zeros((1, )) for _ in range(S)] \n",
    "proj_error_1_2 = [np.zeros((1, )) for _ in range(S)]\n",
    "\n",
    "proj_error_2 = [np.zeros((1, )) for _ in range(S)] \n",
    "# error_1_1 is for dim 2p, error_1_2 is for dim p\n",
    "error_1_1 = [np.zeros((1, )) for _ in range(S)]\n",
    "error_1_2 = [np.zeros((1, )) for _ in range(S)]\n",
    "\n",
    "error_2 = [np.zeros((1, )) for _ in range(S)]\n",
    "g = np.zeros((S, 1))\n",
    "g1 = np.zeros((S, 1))\n",
    "g2 = np.zeros((S, 1))\n",
    "projection_1_norm = np.zeros((S, 1))\n",
    "projection_2_norm = np.zeros((S, 1))\n",
    "# True_projection for 2p and p\n",
    "# True_projection_2p = np.array([[2],[3],[0],[0],[2],[3],[0],[0]])/((np.linalg.norm(np.array([[2],[3],[0],[0],[2],[3],[0],[0]]))))\n",
    "True_projection_2p = np.array([[2],[3],[0],[0],[0],[0],[0],[0]])/((np.linalg.norm(np.array([[2],[3],[0],[0],[0],[0],[0],[0]]))))\n",
    "True_projection_p = np.array([[2],[3],[0],[0]])/((np.linalg.norm(np.array([[2],[3],[0],[0]]))))\n",
    "\n",
    "obj_2_avevec = [np.zeros((P1, 1)) for _ in range(S)]\n",
    "obj2_ave = np.zeros((P1, 1))\n",
    "\n",
    "error_1_3 = 0\n",
    "prediction_mse_1_3 = 0\n",
    "proj_error_1_3 = 0\n",
    "exhi_1 = [np.zeros((P, 1)) for _ in range(S)]\n",
    "exhi_2 = [np.zeros((P, 1)) for _ in range(S)]\n",
    "obj_2 = [np.zeros((P1, 1)) for _ in range(S)]\n",
    "obj_2_avevec = [np.zeros((P1, 1)) for _ in range(S)]\n",
    "\n",
    "# Data Generation\n",
    "for h in range(num_N):\n",
    "    noise1[h] = np.random.normal(0, 1, size=(n_gene)) \n",
    "    noise2[h] = np.random.normal(0, 1, size=(n_obs+S+3))\n",
    "    # noise[h] = np.random.normal(0, 0.5, size=(n_obs+S))\n",
    "ar_series = np.zeros((num_N, n_obs+S+3))\n",
    "# change initial value and burn-off?\n",
    "############################################################### \n",
    "for t in range(1, n_gene + 1):\n",
    "    for i in range(4):\n",
    "        AR_temp = np.array([ar_coeff[0][i], ar_coeff[1][i]]) @ np.array([AR[i][0], AR[i][1]]) + noise1[i][t-1]\n",
    "        AR[i][1] = AR[i][0]\n",
    "        AR[i][0] = AR_temp\n",
    "for i in range(4):\n",
    "    for k in range(p):\n",
    "        ar_series[i][k] = AR[i][k]\n",
    "for t in range(2, n_obs+S+3):\n",
    "    for i in range(4):\n",
    "        ar_series[i][t] = np.array([ar_coeff[0][i], ar_coeff[1][i]]) @ np.array([ar_series[i][t - 1], ar_series[i][t - 2]]) + noise2[i][t]\n",
    "    ar_series[4][t] = a1 * ar_series[0][t] + a2 * ar_series[1][t] + noise2[4][t]\n",
    "\n",
    "for a in range(2, S+2):\n",
    "    y[a-2] = ar_series[4][a:n_obs+a]\n",
    "    X1[a-2] = np.concatenate((np.array([ar_series[i][a:n_obs+a] for i in range(P)]), np.array([ar_series[i][a-1:n_obs+a-1] for i in range(P)])), axis = 0).T #.reshape(-1,1)\n",
    "# X = np.concatenate((np.array([ar_series[i][2:n_obs+2] for i in range(P)]), np.array([ar_series[i][1:n_obs+1] for i in range(P)])), axis = 0).T\n",
    "################################################################\n",
    "# original data generation\n",
    "# for t in range(0, n_obs+S):\n",
    "#     ar_series[0][t] = ar_coeff[0] * ar_series[0][t - 1] + noise[0][t]\n",
    "#     ar_series[1][t] = ar_coeff[1] * ar_series[1][t - 1] + noise[1][t]\n",
    "#     ar_series[2][t] = ar_coeff[2] * ar_series[2][t - 1] + noise[2][t]\n",
    "#     ar_series[3][t] = ar_coeff[3] * ar_series[3][t - 1] + noise[3][t]\n",
    "#     ar_series[4][t] = a1 * ar_series[0][t] + a2 * ar_series[1][t] + noise[4][t]\n",
    "# for a in range(0, S):\n",
    "#     y[a] = ar_series[4][a:n_obs+a]\n",
    "#     X1[a] = np.concatenate([ar_series[i][a:n_obs+a].reshape(-1, 1) for i in range(P)], axis = 1)\n",
    "X = X1[0]\n",
    "V1 = []\n",
    "for a in range(0, S):\n",
    "    _, M = sir_11(X, y[a], H, K)\n",
    "    V1.append(M)\n",
    "# objective 1: experiment\n",
    "X2 = np.concatenate((np.array([ar_series[i][2:n_obs+2].reshape(n_obs, 1) for i in range(P)])), axis = 1)\n",
    "for q in range(0, S):\n",
    "    phi = ar_coeff[0] + ar_coeff[1]\n",
    "    Q3 = np.zeros((P1, P1))\n",
    "    for j in range(P1):\n",
    "        for k in range(P1):\n",
    "            Q3[j, k] = sum((phi[j] ** a) * (np.linalg.inv(np.cov(X.T)) @ V1[a] @ np.linalg.inv(np.cov(X.T)))[j, k] * (phi[k] ** a) for a in range(0, q + 1))\n",
    "    \n",
    "    # Method 1: dimension 2p \n",
    "    edr_est = compute_eigen(Q3, P1, K)\n",
    "    if edr_est[0] < 0:\n",
    "        edr_est = -edr_est\n",
    "    # if edr_est[0] < 0:\n",
    "    #     edr_est[0:P-1] = -edr_est[0:P-1]\n",
    "    # if edr_est[P] < 0:\n",
    "    #     edr_est[P:] = -edr_est[P:]\n",
    "    # for i in range(ARnum):\n",
    "    #     edr_est[i*P] = edr_est[i*P]/ar_coeff[i][0]\n",
    "    #     edr_est[i*P + 1] = edr_est[i*P + 1]/ar_coeff[i][1]\n",
    "    edr_est = np.real(edr_est / np.linalg.norm(edr_est))\n",
    "    # error_1[q] += np.mean([abs(edr_est[0] / edr_est[1] - a1/a2), abs(edr_est[P] / edr_est[P + 1] - a1/a2)])\n",
    "    prediction_mse_1_1[q] += MSE(X @ edr_est, y[0]) \n",
    "    proj_error_1_1[q] += np.linalg.norm((proj(edr_est) - proj(True_projection_2p)), 'fro')**2\n",
    "    \n",
    "    # Method 2: additional step, dimension p, average every p dimensional vector. \n",
    "    # average_edr_est = np.mean(edr_est.reshape(-1, P), axis=0)\n",
    "    # error_1_2[q] += abs(average_edr_est[0] / average_edr_est[1] - a1/a2)\n",
    "    # prediction_mse_1_2[q] += MSE((X2 @ average_edr_est).reshape(-1,1), y[0])\n",
    "    # proj_error_1_2[q] += np.linalg.norm((proj((average_edr_est).reshape(-1,1)) - proj(True_projection_p)), 'fro')**2\n",
    "\n",
    "# Method 3: q = 0 use cross-sectional data X_t y_t, q = 0\n",
    "# edr_est_3, _ = sir_11(X2, y[0], H, K)\n",
    "# if edr_est_3[0] < 0:\n",
    "#     edr_est_3 = -edr_est_3\n",
    "# edr_est_3 = np.real(edr_est_3 / np.linalg.norm(edr_est_3))\n",
    "# error_1_3 += abs(edr_est_3[0] / edr_est_3[1] - a1/a2)\n",
    "# prediction_mse_1_3 += MSE(X2 @ edr_est_3, y[0])\n",
    "# proj_error_1_3 += np.linalg.norm((proj(edr_est_3) - proj(True_projection_p)), 'fro')**2"
   ]
  },
  {
   "cell_type": "code",
   "execution_count": 6,
   "id": "6bb437cc-5e7d-458b-9617-0df769b80c9d",
   "metadata": {},
   "outputs": [
    {
     "data": {
      "text/plain": [
       "array([[ 5.63687861e-01],\n",
       "       [ 8.25513931e-01],\n",
       "       [ 2.62686594e-04],\n",
       "       [ 1.45438402e-03],\n",
       "       [ 1.52648897e-02],\n",
       "       [-2.29093176e-02],\n",
       "       [-4.64505041e-03],\n",
       "       [-1.06370818e-03]])"
      ]
     },
     "execution_count": 6,
     "metadata": {},
     "output_type": "execute_result"
    }
   ],
   "source": [
    "# True_projection_2p = np.array([[2],[3],[0],[0],[0],[0],[0],[0]])/((np.linalg.norm(np.array([[2],[3],[0],[0],[0],[0],[0],[0]]))))\n",
    "edr_est"
   ]
  },
  {
   "cell_type": "code",
   "execution_count": 112,
   "id": "ee8a9853-69e0-4986-89e4-65cdf5f5947c",
   "metadata": {},
   "outputs": [],
   "source": [
    "#add risk to be averaged over replicas, add prediction error for obj2 for averaged direction\n",
    "from tabulate import tabulate\n",
    "import numpy as np\n",
    "from sklearn.preprocessing import StandardScaler\n",
    "import matplotlib.pyplot as plt\n",
    "from sklearn.model_selection import train_test_split\n",
    "from sklearn.linear_model import LinearRegression\n",
    "from sklearn.metrics import mean_squared_error, mean_absolute_error\n",
    "def ave(arr, N):\n",
    "    for i in range(len(arr)):\n",
    "        arr[i] = arr[i]/N \n",
    "    return arr \n",
    "def compute_eigen(Q4, P, K):\n",
    "    eigenvalues2, eigenvectors2 = np.linalg.eig(Q4)\n",
    "    K_index = np.argpartition(np.abs(eigenvalues2), P - K) >= P - K\n",
    "    K_largest_eigenvectors = eigenvectors2[:, K_index]\n",
    "    edr_est = K_largest_eigenvectors  \n",
    "    if edr_est[0] < 0:\n",
    "        edr_est = -edr_est\n",
    "    edr_est = edr_est / np.linalg.norm(edr_est)\n",
    "    return edr_est\n",
    "    \n",
    "def proj(edr_est): \n",
    "    E = edr_est @ np.linalg.inv(edr_est.T @ edr_est) @ edr_est.T\n",
    "    return E\n",
    "\n",
    "def exhi(obj1):        \n",
    "    array1 = np.vectorize(lambda x: f\"{x:.6f}\")(obj1)\n",
    "    table = tabulate(array1, tablefmt='latex_raw')\n",
    "    # Split the table into lines\n",
    "    lines = table.split('\\n')\n",
    "    # Insert \\hline after each row\n",
    "    latex_table = '\\n'.join([line + (' \\\\hline' if (idx > 1) else '') for idx, line in enumerate(lines)])\n",
    "    print(latex_table)\n",
    "    \n",
    "def MSE(X, y):\n",
    "    # Split data into training and test sets\n",
    "    X_train, X_test, y_train, y_test = train_test_split(X, y, test_size=0.2, random_state=42)\n",
    "    # Create and train the model\n",
    "    model = LinearRegression()\n",
    "    model.fit(X_train, y_train)\n",
    "    # Make predictions\n",
    "    y_pred = model.predict(X_test)\n",
    "    # Calculate errors\n",
    "    mse = mean_squared_error(y_test, y_pred)\n",
    "    return mse\n",
    "\n",
    "def TestAR3(ar_coeff, a1, a2, initial_value, n_gene, n_obs, H, S, n_rep):\n",
    "    ARnum = 2; num_N = 5;P = 4;K = 1;n1 = 0;l = 1; p = 2; P1 = 2*P; AR = initial_value\n",
    "    noise1 = np.zeros((num_N, n_gene))\n",
    "    noise2 = np.zeros((num_N, n_obs+S+3))\n",
    "    y = [np.zeros((num_N, n_obs+i)) for i in range(S)]\n",
    "    X1 = [[np.zeros((num_N, 2*n_obs)) for i in range(P)] for i in range(S)]\n",
    "    obj_1 = [np.zeros((P, 1)) for _ in range(S)]  \n",
    "    obj_2 = [np.zeros((P1, 1)) for _ in range(S)]  \n",
    "    \n",
    "    prediction_mse_1_1 = [np.zeros((1, 1)) for _ in range(S)]\n",
    "    prediction_mse_1_2 = [np.zeros((1, 1)) for _ in range(S)]\n",
    "    \n",
    "    prediction_mse_2 = [np.zeros((1, 1)) for _ in range(S)]\n",
    "    M = [np.zeros((P, 1)) for _ in range(S)] \n",
    "    proj_error_1_1 = [np.zeros((1, )) for _ in range(S)] \n",
    "    proj_error_1_2 = [np.zeros((1, )) for _ in range(S)]\n",
    "    \n",
    "    proj_error_2 = [np.zeros((1, )) for _ in range(S)] \n",
    "    # error_1_1 is for dim 2p, error_1_2 is for dim p\n",
    "    error_1_1 = [np.zeros((1, )) for _ in range(S)]\n",
    "    error_1_2 = [np.zeros((1, )) for _ in range(S)]\n",
    "    \n",
    "    error_2 = [np.zeros((1, )) for _ in range(S)]\n",
    "    g = np.zeros((S, 1))\n",
    "    g1 = np.zeros((S, 1))\n",
    "    g2 = np.zeros((S, 1))\n",
    "    projection_1_norm = np.zeros((S, 1))\n",
    "    projection_2_norm = np.zeros((S, 1))\n",
    "    # True_projection for 2p and p\n",
    "    # True_projection_2p = np.array([[2],[3],[0],[0],[2],[3],[0],[0]])/((np.linalg.norm(np.array([[2],[3],[0],[0],[2],[3],[0],[0]]))))\n",
    "    True_projection_2p = np.array([[2],[3],[0],[0],[0],[0],[0],[0]])/((np.linalg.norm(np.array([[2],[3],[0],[0],[0],[0],[0],[0]]))))\n",
    "    True_projection_p = np.array([[2],[3],[0],[0]])/((np.linalg.norm(np.array([[2],[3],[0],[0]]))))\n",
    "    \n",
    "    obj_2_avevec = [np.zeros((P1, 1)) for _ in range(S)]\n",
    "    obj2_ave = np.zeros((P1, 1))\n",
    "\n",
    "    error_1_3 = 0\n",
    "    prediction_mse_1_3 = 0\n",
    "    proj_error_1_3 = 0\n",
    "    \n",
    "    exhi_1 = [np.zeros((P, 1)) for _ in range(S)]\n",
    "    exhi_2 = [np.zeros((P, 1)) for _ in range(S)]\n",
    "    while n1 < n_rep:  \n",
    "        obj_2 = [np.zeros((P1, 1)) for _ in range(S)]\n",
    "        obj_2_avevec = [np.zeros((P1, 1)) for _ in range(S)]\n",
    "        # Data Generation\n",
    "        for h in range(num_N):\n",
    "            noise1[h] = np.random.normal(0, 1, size=(n_gene)) \n",
    "            noise2[h] = np.random.normal(0, 1, size=(n_obs+S+3))\n",
    "            # noise[h] = np.random.normal(0, 0.5, size=(n_obs+S))\n",
    "        ar_series = np.zeros((num_N, n_obs+S+3))\n",
    "        # change initial value and burn-off?\n",
    "        ############################################################### \n",
    "        for t in range(1, n_gene + 1):\n",
    "            for i in range(4):\n",
    "                AR_temp = np.array([ar_coeff[0][i], ar_coeff[1][i]]) @ np.array([AR[i][0], AR[i][1]]) + noise1[i][t-1]\n",
    "                AR[i][1] = AR[i][0]\n",
    "                AR[i][0] = AR_temp\n",
    "        for i in range(4):\n",
    "            for k in range(p):\n",
    "                ar_series[i][k] = AR[i][k]\n",
    "        for t in range(2, n_obs+S+3):\n",
    "            for i in range(4):\n",
    "                ar_series[i][t] = np.array([ar_coeff[0][i], ar_coeff[1][i]]) @ np.array([ar_series[i][t - 1], ar_series[i][t - 2]]) + noise2[i][t]\n",
    "            ar_series[4][t] = a1 * ar_series[0][t] + a2 * ar_series[1][t] + noise2[4][t]\n",
    "        \n",
    "        for a in range(2, S+2):\n",
    "            y[a-2] = ar_series[4][a:n_obs+a]\n",
    "            X1[a-2] = np.concatenate((np.array([ar_series[i][a:n_obs+a] for i in range(P)]), np.array([ar_series[i][a-1:n_obs+a-1] for i in range(P)])), axis = 0).T #.reshape(-1,1)\n",
    "        # X = np.concatenate((np.array([ar_series[i][2:n_obs+2] for i in range(P)]), np.array([ar_series[i][1:n_obs+1] for i in range(P)])), axis = 0).T\n",
    "        ################################################################\n",
    "        # original data generation\n",
    "        # for t in range(0, n_obs+S):\n",
    "        #     ar_series[0][t] = ar_coeff[0] * ar_series[0][t - 1] + noise[0][t]\n",
    "        #     ar_series[1][t] = ar_coeff[1] * ar_series[1][t - 1] + noise[1][t]\n",
    "        #     ar_series[2][t] = ar_coeff[2] * ar_series[2][t - 1] + noise[2][t]\n",
    "        #     ar_series[3][t] = ar_coeff[3] * ar_series[3][t - 1] + noise[3][t]\n",
    "        #     ar_series[4][t] = a1 * ar_series[0][t] + a2 * ar_series[1][t] + noise[4][t]\n",
    "        # for a in range(0, S):\n",
    "        #     y[a] = ar_series[4][a:n_obs+a]\n",
    "        #     X1[a] = np.concatenate([ar_series[i][a:n_obs+a].reshape(-1, 1) for i in range(P)], axis = 1)\n",
    "        X = X1[0]\n",
    "        V1 = []\n",
    "        for a in range(0, S):\n",
    "            _, M = sir_11(X, y[a], H, K)\n",
    "            V1.append(M)\n",
    "    # objective 1: experiment\n",
    "        X2 = np.concatenate((np.array([ar_series[i][2:n_obs+2].reshape(n_obs, 1) for i in range(P)])), axis = 1)\n",
    "        for q in range(0, S):\n",
    "            phi = ar_coeff[0] + ar_coeff[1]\n",
    "            Q3 = np.zeros((P1, P1))\n",
    "            for j in range(P1):\n",
    "                for k in range(P1):\n",
    "                    Q3[j, k] = sum((phi[j] ** a) * (np.linalg.inv(np.cov(X.T)) @ V1[a] @ np.linalg.inv(np.cov(X.T)))[j, k] * (phi[k] ** a) for a in range(0, q + 1))\n",
    "            \n",
    "            # Method 1: dimension 2p \n",
    "            edr_est = compute_eigen(Q3, P1, K)\n",
    "            if edr_est[0] < 0:\n",
    "                edr_est = -edr_est\n",
    "            # for i in range(ARnum):\n",
    "            #     edr_est[i*P] = edr_est[i*P]/ar_coeff[i][0]\n",
    "            #     edr_est[i*P + 1] = edr_est[i*P + 1]/ar_coeff[i][1]\n",
    "            edr_est = np.real(edr_est / np.linalg.norm(edr_est))\n",
    "            error_1_1[q] += abs(edr_est[0] / edr_est[1] - a1/a2)\n",
    "            prediction_mse_1_1[q] += MSE(X @ edr_est, y[0]) \n",
    "            proj_error_1_1[q] += np.linalg.norm((proj(edr_est) - proj(True_projection_2p)), 'fro')**2\n",
    "            \n",
    "            # Method 2: additional step, dimension p, average every p dimensional vector. \n",
    "            # average_edr_est = np.mean(edr_est.reshape(-1, P), axis=0)\n",
    "            # error_1_2[q] += abs(average_edr_est[0] / average_edr_est[1] - a1/a2)\n",
    "            # prediction_mse_1_2[q] += MSE((X2 @ average_edr_est).reshape(-1,1), y[0])\n",
    "            # proj_error_1_2[q] += np.linalg.norm((proj((average_edr_est).reshape(-1,1)) - proj(True_projection_p)), 'fro')**2\n",
    "        \n",
    "        # Method 3: q = 0 use cross-sectional data X_t y_t, q = 0\n",
    "        # edr_est_3, _ = sir_11(X2, y[0], H, K)\n",
    "        # if edr_est_3[0] < 0:\n",
    "        #     edr_est_3 = -edr_est_3\n",
    "        # edr_est_3 = np.real(edr_est_3 / np.linalg.norm(edr_est_3))\n",
    "        # error_1_3 += abs(edr_est_3[0] / edr_est_3[1] - a1/a2)\n",
    "        # prediction_mse_1_3 += MSE(X2 @ edr_est_3, y[0])\n",
    "        # proj_error_1_3 += np.linalg.norm((proj(edr_est_3) - proj(True_projection_p)), 'fro')**2\n",
    "                \n",
    "        n1 += 1  \n",
    "        \n",
    "    error_1_1 = ave(error_1_1, n_rep)    \n",
    "    error_1_2 = ave(error_1_2, n_rep)\n",
    "    error_1_3 = error_1_3/n_rep\n",
    "    prediction_mse_1_1 = ave(prediction_mse_1_1, n_rep)\n",
    "    prediction_mse_1_2 = ave(prediction_mse_1_2, n_rep)\n",
    "    prediction_mse_1_3 = prediction_mse_1_3/n_rep\n",
    "    proj_error_1_1 = ave(proj_error_1_1, n_rep)\n",
    "    proj_error_1_2 = ave(proj_error_1_2, n_rep)       \n",
    "    proj_error_1_3 = proj_error_1_3/n_rep\n",
    "    \n",
    "    index_array = list(range(len(obj_1)))\n",
    "    for i in range(S):\n",
    "        exhi_1[i] = error_1_1[i]\n",
    "        exhi_1[i] = np.vstack((exhi_1[i], proj_error_1_1[i]))\n",
    "        exhi_1[i] = np.vstack((exhi_1[i], prediction_mse_1_1[i]))\n",
    "        exhi_1[i] = np.vstack((np.array([[index_array[i]]]), exhi_1[i]))\n",
    "    \n",
    "    # for i in range(S):\n",
    "    #     exhi_2[i] = error_1_2[i]\n",
    "    #     exhi_2[i] = np.vstack((exhi_2[i], proj_error_1_2[i]))\n",
    "    #     exhi_2[i] = np.vstack((exhi_2[i], prediction_mse_1_2[i]))\n",
    "    #     exhi_2[i] = np.vstack((np.array([[index_array[i]]]), exhi_2[i]))\n",
    "    \n",
    "    #     obj_1[i] = np.vstack((obj_1[i], g[i].reshape(1,-1)))\n",
    "    #     obj_1[i] = np.vstack((np.array([[index_array[i]]]), obj_1[i])) \n",
    "    #     obj_1[i] = np.vstack((np.array(obj_1[i]), proj_error_1[i])) \n",
    "    #     obj_1[i] = np.vstack((np.array(obj_1[i]), mse[i]))\n",
    "      \n",
    "    #objective 1: exhibition\n",
    "    # for i in range(S):\n",
    "    #     g[i] = abs(obj_1[i][0] / obj_1[i][1] - a1/a2)\n",
    "    #     obj_1[i] = np.vstack((obj_1[i], g[i].reshape(1,-1)))\n",
    "    #     obj_1[i] = np.vstack((np.array([[index_array[i]]]), obj_1[i])) \n",
    "    #     obj_1[i] = np.vstack((np.array(obj_1[i]), proj_error_1[i])) \n",
    "    #     obj_1[i] = np.vstack((np.array(obj_1[i]), mse[i]))\n",
    "        \n",
    "    # Result1 = [g[0] - min(g), projection1_norm[0] - min(projection1_norm), mse[0] - min(mse)]\n",
    "    # Result1 = [x.item() for x in Result1]\n",
    "        \n",
    "    #objective 2: exhibition\n",
    "    \n",
    "    # for i in range(S):\n",
    "    #     g[i] = abs(obj2[i][0] / obj2[i][1] - a1/a2)\n",
    "    #     projection2_norm[i] = np.linalg.norm(proj2[i] - proj(True_projection), 'fro')\n",
    "    #     obj2[i] = np.vstack((obj_2_avevec[i], g[i].reshape(1,-1)))\n",
    "    #     obj2[i] = np.vstack((np.array([[index_array[i]]]), obj_2_avevec[i]))    \n",
    "    #     obj2[i] = np.vstack((np.array(obj2[i]), projection2_norm[i]))\n",
    "    #     obj2[i] = np.vstack((np.array(obj2[i]), mse2[i]))\n",
    "    #     obj2[i] = np.vstack((np.array(obj2[i]), abs(obj_2_avevec[i][0]/obj_2_avevec[i][1] - 2/3)))\n",
    "    #     obj2[i] = np.vstack((np.array(obj2[i]), np.linalg.norm(proj(obj_2_avevec[i]) - proj(True_projection), 'fro')))\n",
    "    #     obj2[i] = np.vstack((np.array(obj2[i]), Mse1(X @ obj_2_avevec[i], y[0])))\n",
    "    \n",
    "    # for i in range(S):\n",
    "    #     g[i] = abs(obj_2_avevec[i][0] / obj_2_avevec[i][1] - a1/a2)\n",
    "    #     g1[i] = proj_error_2[i]\n",
    "    #     g2[i] = Mse1(X @ obj_2_avevec[i], y[0])\n",
    "    #     obj_2_avevec[i] = np.vstack((obj_2_avevec[i], g[i].reshape(1,-1)))\n",
    "    #     obj_2_avevec[i] = np.vstack((np.array([[index_array[i]]]), obj_2_avevec[i]))    \n",
    "    #     obj_2_avevec[i] = np.vstack((obj_2_avevec[i], g1[i]))\n",
    "    #     obj_2_avevec[i] = np.vstack((obj_2_avevec[i], g2[i]))\n",
    "    \n",
    "    # Result2 = [g[0] - min(g), g1[0] - min(g1), g2[0] - min(g2)] \n",
    "    # Result2 = [x.item() for x in Result2]\n",
    "    \n",
    "    # print(\"error_1:\",[x.item() for x in error_1])\n",
    "    # print(\"error_2:\",[x.item() for x in error_2])\n",
    "    # print(\"proj_error_1:\",[x.item() for x in proj_error_1]) \n",
    "    # print(\"proj_error_2:\",[x.item() for x in proj_error_2])\n",
    "    \n",
    "    # print(obj_2_avevec)\n",
    "    # print(obj_2)\n",
    "    # print(\"Obj1\")\n",
    "    # exhi(obj1) \n",
    "    # print(\"Obj2\")\n",
    "    # exhi(obj_2_avevec)\n",
    "    # print(Result1), print(Result2)\n",
    "    # return obj_2_avevec\n",
    "    print(\"Obj1 Method 1\")\n",
    "    exhi(exhi_1)\n",
    "    # print(\"Obj1 Method 2\")\n",
    "    # exhi(exhi_2)\n",
    "    # # print(\"Obj1 Method 3\")\n",
    "    # return error_1_3, proj_error_1_3, prediction_mse_1_3\n",
    "    return error_1_1"
   ]
  },
  {
   "cell_type": "code",
   "execution_count": 113,
   "id": "fc676919-61d5-4dd7-a5ef-db28d81dd835",
   "metadata": {},
   "outputs": [
    {
     "name": "stdout",
     "output_type": "stream",
     "text": [
      "Obj1 Method 1\n",
      "\\begin{tabular}{rrrr}\n",
      "\\hline\n",
      " 0 & 0.011961 & 0.002154 & 1.00158  \\\\ \\hline\n",
      " 1 & 0.013026 & 0.001983 & 0.999956 \\\\ \\hline\n",
      " 2 & 0.013383 & 0.002    & 0.999882 \\\\ \\hline\n",
      " 3 & 0.013402 & 0.002004 & 0.999989 \\\\ \\hline\n",
      " 4 & 0.013403 & 0.002005 & 1.00002  \\\\ \\hline\n",
      " 5 & 0.013403 & 0.002006 & 1.00005  \\\\ \\hline\n",
      " 6 & 0.013403 & 0.002006 & 1.00006  \\\\ \\hline\n",
      " 7 & 0.013403 & 0.002007 & 1.00007  \\\\ \\hline\n",
      " 8 & 0.013403 & 0.002007 & 1.00008  \\\\ \\hline\n",
      " 9 & 0.013403 & 0.002007 & 1.00008  \\\\ \\hline\n",
      "\\hline \\hline\n",
      "\\end{tabular} \\hline\n"
     ]
    },
    {
     "data": {
      "text/plain": [
       "[array([0.01196092]),\n",
       " array([0.01302558]),\n",
       " array([0.01338339]),\n",
       " array([0.0134016]),\n",
       " array([0.01340321]),\n",
       " array([0.01340333]),\n",
       " array([0.01340335]),\n",
       " array([0.01340335]),\n",
       " array([0.01340335]),\n",
       " array([0.01340335])]"
      ]
     },
     "execution_count": 113,
     "metadata": {},
     "output_type": "execute_result"
    }
   ],
   "source": [
    "ar_coeff = [[0.1, 0.3, 0.2, 0.2], [0.2, 0.3, 0.5, 0.8]]\n",
    "initial_value = [[0,0],[0,0],[0,0],[0,0]]\n",
    "TestAR3(ar_coeff, 2, 3, initial_value, 10000, 1000, 50, 10, 500)"
   ]
  },
  {
   "cell_type": "code",
   "execution_count": null,
   "id": "d54650f5-dbf0-4611-a386-bf16a0801dde",
   "metadata": {},
   "outputs": [],
   "source": []
  },
  {
   "cell_type": "code",
   "execution_count": 114,
   "id": "eac99d87-5028-43b2-af27-cc77fe32e89c",
   "metadata": {},
   "outputs": [
    {
     "name": "stdout",
     "output_type": "stream",
     "text": [
      "Obj1 Method 1\n",
      "\\begin{tabular}{rrrr}\n",
      "\\hline\n",
      " 0 & 0.396902 & 0.816756 & 629.061  \\\\ \\hline\n",
      " 1 & 0.335332 & 0.69138  & 240.623  \\\\ \\hline\n",
      " 2 & 0.290057 & 0.630316 & 146.835  \\\\ \\hline\n",
      " 3 & 0.271181 & 0.604609 & 117.789  \\\\ \\hline\n",
      " 4 & 0.262416 & 0.593056 & 105.571  \\\\ \\hline\n",
      " 5 & 0.258148 & 0.587598 & 100.191  \\\\ \\hline\n",
      " 6 & 0.256406 & 0.584916 &  97.7121 \\\\ \\hline\n",
      " 7 & 0.255456 & 0.583547 &  96.6016 \\\\ \\hline\n",
      " 8 & 0.254982 & 0.582944 &  96.1311 \\\\ \\hline\n",
      " 9 & 0.254762 & 0.582664 &  95.932  \\\\ \\hline\n",
      "\\hline \\hline\n",
      "\\end{tabular} \\hline\n"
     ]
    },
    {
     "data": {
      "text/plain": [
       "[array([0.39690151]),\n",
       " array([0.33533157]),\n",
       " array([0.29005721]),\n",
       " array([0.27118087]),\n",
       " array([0.26241614]),\n",
       " array([0.25814783]),\n",
       " array([0.25640647]),\n",
       " array([0.25545577]),\n",
       " array([0.2549821]),\n",
       " array([0.25476185])]"
      ]
     },
     "execution_count": 114,
     "metadata": {},
     "output_type": "execute_result"
    }
   ],
   "source": [
    "ar_coeff = [[0.6, 0.7, 0.3, 0.2], [0.2, 0.3, 0.5, 0.8]]\n",
    "initial_value = [[0,0],[0,0],[0,0],[0,0]]\n",
    "TestAR3(ar_coeff, 2, 3, initial_value, 10000, 1000, 50, 10, 500)"
   ]
  },
  {
   "cell_type": "code",
   "execution_count": 115,
   "id": "f78e7325-b83e-45bd-82a8-4fa0b082c6ea",
   "metadata": {},
   "outputs": [
    {
     "name": "stdout",
     "output_type": "stream",
     "text": [
      "Obj1 Method 1\n",
      "\\begin{tabular}{rrrr}\n",
      "\\hline\n",
      " 0 & 0.011696 & 0.002334 & 1.00995 \\\\ \\hline\n",
      " 1 & 0.011966 & 0.002052 & 1.00841 \\\\ \\hline\n",
      " 2 & 0.012132 & 0.002061 & 1.00849 \\\\ \\hline\n",
      " 3 & 0.012144 & 0.002064 & 1.00864 \\\\ \\hline\n",
      " 4 & 0.012144 & 0.002066 & 1.00868 \\\\ \\hline\n",
      " 5 & 0.012144 & 0.002066 & 1.00871 \\\\ \\hline\n",
      " 6 & 0.012144 & 0.002067 & 1.00873 \\\\ \\hline\n",
      " 7 & 0.012144 & 0.002067 & 1.00874 \\\\ \\hline\n",
      " 8 & 0.012144 & 0.002067 & 1.00874 \\\\ \\hline\n",
      " 9 & 0.012144 & 0.002067 & 1.00875 \\\\ \\hline\n",
      "\\hline \\hline\n",
      "\\end{tabular} \\hline\n"
     ]
    },
    {
     "data": {
      "text/plain": [
       "[array([0.01169595]),\n",
       " array([0.0119663]),\n",
       " array([0.01213212]),\n",
       " array([0.01214352]),\n",
       " array([0.01214441]),\n",
       " array([0.01214448]),\n",
       " array([0.01214448]),\n",
       " array([0.01214447]),\n",
       " array([0.01214447]),\n",
       " array([0.01214447])]"
      ]
     },
     "execution_count": 115,
     "metadata": {},
     "output_type": "execute_result"
    }
   ],
   "source": [
    "ar_coeff = [[0.2, 0.3, 0.3, 0.2], [0.2, 0.3, 0.5, 0.8]]\n",
    "initial_value = [[0,0],[0,0],[0,0],[0,0]]\n",
    "TestAR3(ar_coeff, 2, 3, initial_value, 10000, 1000, 50, 10, 500)"
   ]
  },
  {
   "cell_type": "code",
   "execution_count": null,
   "id": "8e086e8a-c23e-4ad6-9767-a751a92da60e",
   "metadata": {},
   "outputs": [],
   "source": []
  },
  {
   "cell_type": "code",
   "execution_count": null,
   "id": "9dd0a502-6cd3-41f8-bb11-d09cf65a4242",
   "metadata": {},
   "outputs": [],
   "source": []
  },
  {
   "cell_type": "code",
   "execution_count": 116,
   "id": "c72e6f5e-0a2d-4c79-b635-9fca7eb38dfa",
   "metadata": {},
   "outputs": [
    {
     "name": "stdout",
     "output_type": "stream",
     "text": [
      "Obj1 Method 1\n",
      "\\begin{tabular}{rrrr}\n",
      "\\hline\n",
      " 0 & 0.308093 & 0.689584 & 402.888 \\\\ \\hline\n",
      " 1 & 0.248962 & 0.71341  & 420.198 \\\\ \\hline\n",
      " 2 & 0.233869 & 0.71651  & 422.399 \\\\ \\hline\n",
      " 3 & 0.23032  & 0.718962 & 424.706 \\\\ \\hline\n",
      " 4 & 0.229278 & 0.720253 & 426.456 \\\\ \\hline\n",
      " 5 & 0.22919  & 0.721058 & 427.374 \\\\ \\hline\n",
      " 6 & 0.22924  & 0.72158  & 427.996 \\\\ \\hline\n",
      " 7 & 0.229288 & 0.721908 & 428.408 \\\\ \\hline\n",
      " 8 & 0.229333 & 0.722138 & 428.682 \\\\ \\hline\n",
      " 9 & 0.229364 & 0.722284 & 428.851 \\\\ \\hline\n",
      "\\hline \\hline\n",
      "\\end{tabular} \\hline\n"
     ]
    },
    {
     "data": {
      "text/plain": [
       "[array([0.30809279]),\n",
       " array([0.24896211]),\n",
       " array([0.23386874]),\n",
       " array([0.23032022]),\n",
       " array([0.22927754]),\n",
       " array([0.22919001]),\n",
       " array([0.22924048]),\n",
       " array([0.22928785]),\n",
       " array([0.22933297]),\n",
       " array([0.22936371])]"
      ]
     },
     "execution_count": 116,
     "metadata": {},
     "output_type": "execute_result"
    }
   ],
   "source": [
    "ar_coeff = [[0.4, 0.5, 0.3, 0.2], [0.4, 0.5, 0.5, 0.8]]\n",
    "initial_value = [[0,0],[0,0],[0,0],[0,0]]\n",
    "TestAR3(ar_coeff, 2, 3, initial_value, 10000, 1000, 50, 10, 500)"
   ]
  },
  {
   "cell_type": "code",
   "execution_count": null,
   "id": "f502088a-4295-4010-a93e-2f0829eb624c",
   "metadata": {},
   "outputs": [],
   "source": []
  },
  {
   "cell_type": "code",
   "execution_count": null,
   "id": "d7ceef8d-b8e6-4e8e-acae-10d26d210e51",
   "metadata": {},
   "outputs": [],
   "source": []
  },
  {
   "cell_type": "code",
   "execution_count": null,
   "id": "73956e5e-772f-4b03-b786-f397d9b97c9a",
   "metadata": {},
   "outputs": [],
   "source": []
  },
  {
   "cell_type": "code",
   "execution_count": null,
   "id": "eeee706d-bceb-458a-8e3a-0e4c54485b9b",
   "metadata": {},
   "outputs": [],
   "source": []
  },
  {
   "cell_type": "markdown",
   "id": "ec77ad1c-429c-4ac2-a5e5-a39402031179",
   "metadata": {
    "jp-MarkdownHeadingCollapsed": true
   },
   "source": [
    "# $X_{t}, X_{t-1}, \\text{Objective 1 and objective 2}, AR(p)$"
   ]
  },
  {
   "cell_type": "code",
   "execution_count": null,
   "id": "a55227c5-fb27-4b68-8905-fc4bb569e642",
   "metadata": {},
   "outputs": [],
   "source": [
    "# objective 2: experiment\n",
    "for q in range(0, S):\n",
    "    Q4 = np.linalg.inv(np.cov(X1[q].T)) @ V1[q] @ np.linalg.inv(np.cov(X1[q].T))   # multiply np.linalg.inv(np.cov(X1[q].T)), by stationarity, it should cause no influence.\n",
    "    # Q3 = np.linalg.inv(np.cov(X.T)) @ V1[q] @ np.linalg.inv(np.cov(X.T)), if we multiply np.linalg.inv(np.cov(X.T)) like this line, result for q = 0 should be the same.   \n",
    "    K_largest_eigenvectors = compute_eigen(Q4, P1, K)\n",
    "    edr_est1 = np.multiply(np.power(phi, -q), K_largest_eigenvectors.flatten())   \n",
    "    if edr_est1[0] < 0:\n",
    "        edr_est1 = -edr_est1\n",
    "    edr_est1 = edr_est1 / np.linalg.norm(edr_est1)\n",
    "    obj2[q] += np.real(edr_est1.reshape(-1,1))"
   ]
  },
  {
   "cell_type": "code",
   "execution_count": null,
   "id": "b9740713-47fb-4c23-b4b5-f3a48c6ce175",
   "metadata": {},
   "outputs": [],
   "source": []
  },
  {
   "cell_type": "code",
   "execution_count": null,
   "id": "cbe48a3d-2b79-4368-806d-ddd6425ecaf9",
   "metadata": {},
   "outputs": [],
   "source": []
  },
  {
   "cell_type": "markdown",
   "id": "d049e96f-6deb-4803-a5af-b330a76f7c14",
   "metadata": {
    "jp-MarkdownHeadingCollapsed": true
   },
   "source": [
    "# $X_{t-1}, X_{t-2}$"
   ]
  },
  {
   "cell_type": "markdown",
   "id": "c6ae9a69-a94b-4a54-8d65-4cfc2176ecf1",
   "metadata": {},
   "source": [
    "## True_projection_2p = np.array([[2],[3],[0],[0],[2],[3],[0],[0]])"
   ]
  },
  {
   "cell_type": "code",
   "execution_count": 84,
   "id": "d6827b35-9b7a-4171-8c0a-1b08373eef2f",
   "metadata": {},
   "outputs": [],
   "source": [
    "# X_{t-1}, X_{t-2}\n",
    "\n",
    "ar_coeff = [[0.1, 0.3, 0.2, 0.2], [0.2, 0.3, 0.5, 0.8]]\n",
    "initial_value = [[0,0],[0,0],[0,0],[0,0]]\n",
    "a1 = 2;a2 = 3; n_gene = 10000; n_obs = 1000; H = 50; S = 10; n_rep = 500;\n",
    "ARnum = 2; num_N = 5;P = 4;K = 1;n1 = 0;l = 1; p = 2; P1 = 2*P; AR = initial_value\n",
    "noise1 = np.zeros((num_N, n_gene))\n",
    "noise2 = np.zeros((num_N, n_obs+S+3))\n",
    "y = [np.zeros((num_N, n_obs+i)) for i in range(S)]\n",
    "X1 = [[np.zeros((num_N, 2*n_obs)) for i in range(P)] for i in range(S)]\n",
    "obj_1 = [np.zeros((P, 1)) for _ in range(S)]  \n",
    "obj_2 = [np.zeros((P1, 1)) for _ in range(S)]  \n",
    "prediction_mse_1_1 = [np.zeros((1, 1)) for _ in range(S)]\n",
    "prediction_mse_1_2 = [np.zeros((1, 1)) for _ in range(S)]\n",
    "\n",
    "prediction_mse_2 = [np.zeros((1, 1)) for _ in range(S)]\n",
    "M = [np.zeros((P, 1)) for _ in range(S)] \n",
    "proj_error_1_1 = [np.zeros((1, )) for _ in range(S)] \n",
    "proj_error_1_2 = [np.zeros((1, )) for _ in range(S)]\n",
    "\n",
    "proj_error_2 = [np.zeros((1, )) for _ in range(S)] \n",
    "# error_1_1 is for dim 2p, error_1_2 is for dim p\n",
    "error_1_1 = [np.zeros((1, )) for _ in range(S)]\n",
    "error_1_2 = [np.zeros((1, )) for _ in range(S)]\n",
    "\n",
    "error_2 = [np.zeros((1, )) for _ in range(S)]\n",
    "g = np.zeros((S, 1))\n",
    "g1 = np.zeros((S, 1))\n",
    "g2 = np.zeros((S, 1))\n",
    "projection_1_norm = np.zeros((S, 1))\n",
    "projection_2_norm = np.zeros((S, 1))\n",
    "# True_projection for 2p and p\n",
    "True_projection_2p = np.array([[2],[3],[0],[0],[2],[3],[0],[0]])/((np.linalg.norm(np.array([[2],[3],[0],[0],[2],[3],[0],[0]]))))\n",
    "True_projection_p = np.array([[2],[3],[0],[0]])/((np.linalg.norm(np.array([[2],[3],[0],[0]]))))\n",
    "\n",
    "obj_2_avevec = [np.zeros((P1, 1)) for _ in range(S)]\n",
    "obj2_ave = np.zeros((P1, 1))\n",
    "\n",
    "error_1_3 = 0\n",
    "prediction_mse_1_3 = 0\n",
    "proj_error_1_3 = 0\n",
    "exhi_1 = [np.zeros((P, 1)) for _ in range(S)]\n",
    "exhi_2 = [np.zeros((P, 1)) for _ in range(S)]\n",
    "obj_2 = [np.zeros((P1, 1)) for _ in range(S)]\n",
    "obj_2_avevec = [np.zeros((P1, 1)) for _ in range(S)]\n",
    "while n1 < n_rep:\n",
    "    # Data Generation\n",
    "    for h in range(num_N):\n",
    "        noise1[h] = np.random.normal(0, 0.1, size=(n_gene)) \n",
    "        noise2[h] = np.random.normal(0, 0.1, size=(n_obs+S+3))\n",
    "        # noise[h] = np.random.normal(0, 0.5, size=(n_obs+S))\n",
    "    ar_series = np.zeros((num_N, n_obs+S+3))\n",
    "    # change initial value and burn-off?\n",
    "    ############################################################### \n",
    "    for t in range(1, n_gene + 1):\n",
    "        for i in range(4):\n",
    "            AR_temp = np.array([ar_coeff[0][i], ar_coeff[1][i]]) @ np.array([AR[i][0], AR[i][1]]) + noise1[i][t-1]\n",
    "            AR[i][1] = AR[i][0]\n",
    "            AR[i][0] = AR_temp\n",
    "    for i in range(4):\n",
    "        for k in range(p):\n",
    "            ar_series[i][k] = AR[i][k]\n",
    "    for t in range(2, n_obs+S+3):\n",
    "        for i in range(4):\n",
    "            ar_series[i][t] = np.array([ar_coeff[0][i], ar_coeff[1][i]]) @ np.array([ar_series[i][t - 1], ar_series[i][t - 2]]) + noise2[i][t]\n",
    "        ar_series[4][t] = a1 * ar_series[0][t] + a2 * ar_series[1][t] + noise2[4][t]\n",
    "    \n",
    "    for a in range(2, S+2):\n",
    "        y[a-2] = ar_series[4][a:n_obs+a]\n",
    "        X1[a-2] = np.concatenate((np.array([ar_series[i][a-1:n_obs+a-1] for i in range(P)]), np.array([ar_series[i][a-2:n_obs+a-2] for i in range(P)])), axis = 0).T #.reshape(-1,1)\n",
    "    # X = np.concatenate((np.array([ar_series[i][2:n_obs+2] for i in range(P)]), np.array([ar_series[i][1:n_obs+1] for i in range(P)])), axis = 0).T\n",
    "    ################################################################\n",
    "    # original data generation\n",
    "    # for t in range(0, n_obs+S):\n",
    "    #     ar_series[0][t] = ar_coeff[0] * ar_series[0][t - 1] + noise[0][t]\n",
    "    #     ar_series[1][t] = ar_coeff[1] * ar_series[1][t - 1] + noise[1][t]\n",
    "    #     ar_series[2][t] = ar_coeff[2] * ar_series[2][t - 1] + noise[2][t]\n",
    "    #     ar_series[3][t] = ar_coeff[3] * ar_series[3][t - 1] + noise[3][t]\n",
    "    #     ar_series[4][t] = a1 * ar_series[0][t] + a2 * ar_series[1][t] + noise[4][t]\n",
    "    # for a in range(0, S):\n",
    "    #     y[a] = ar_series[4][a:n_obs+a]\n",
    "    #     X1[a] = np.concatenate([ar_series[i][a:n_obs+a].reshape(-1, 1) for i in range(P)], axis = 1)\n",
    "    X = X1[0]\n",
    "    V1 = []\n",
    "    for a in range(0, S):\n",
    "        _, M = sir_11(X, y[a], H, K)\n",
    "        V1.append(M)\n",
    "    # objective 1: experiment\n",
    "    X2 = np.concatenate((np.array([ar_series[i][2:n_obs+2].reshape(n_obs, 1) for i in range(P)])), axis = 1)\n",
    "    for q in range(0, S):\n",
    "        phi = ar_coeff[0] + ar_coeff[1]\n",
    "        Q3 = np.zeros((P1, P1))\n",
    "        for j in range(P1):\n",
    "            for k in range(P1):\n",
    "                Q3[j, k] = sum((phi[j] ** a) * (np.linalg.inv(np.cov(X.T)) @ V1[a] @ np.linalg.inv(np.cov(X.T)))[j, k] * (phi[k] ** a) for a in range(0, q + 1))\n",
    "        \n",
    "        # Method 1: dimension 2p \n",
    "        edr_est = compute_eigen(Q3, P1, K)\n",
    "        if edr_est[0] < 0:\n",
    "            edr_est[0:P] = -edr_est[0:P]\n",
    "        if edr_est[P] < 0:\n",
    "            edr_est[P:] = -edr_est[P:]\n",
    "        for i in range(ARnum):\n",
    "            edr_est[i*P] = edr_est[i*P]/ar_coeff[i][0]\n",
    "            edr_est[i*P + 1] = edr_est[i*P + 1]/ar_coeff[i][1]\n",
    "        edr_est = np.real(edr_est / np.linalg.norm(edr_est))\n",
    "        # error_1[q] += np.mean([abs(edr_est[0] / edr_est[1] - a1/a2), abs(edr_est[P] / edr_est[P + 1] - a1/a2)])\n",
    "        prediction_mse_1_1[q] += MSE(X @ edr_est, y[0]) \n",
    "        proj_error_1_1[q] += np.linalg.norm((proj(edr_est) - proj(True_projection_2p)), 'fro')**2\n",
    "        \n",
    "        # Method 2: additional step, dimension p, average every p dimensional vector. \n",
    "        average_edr_est = np.mean(edr_est.reshape(-1, P), axis=0)\n",
    "        error_1_2[q] += abs(average_edr_est[0] / average_edr_est[1] - a1/a2)\n",
    "        prediction_mse_1_2[q] += MSE((X2 @ average_edr_est).reshape(-1,1), y[0])\n",
    "        proj_error_1_2[q] += np.linalg.norm((proj((average_edr_est).reshape(-1,1)) - proj(True_projection_p)), 'fro')**2\n",
    "    \n",
    "    # Method 3: q = 0 use cross-sectional data X_t y_t, q = 0\n",
    "    edr_est_3, _ = sir_11(X2, y[0], H, K)\n",
    "    if edr_est_3[0] < 0:\n",
    "        edr_est_3 = -edr_est_3\n",
    "    edr_est_3 = np.real(edr_est_3 / np.linalg.norm(edr_est_3))\n",
    "    error_1_3 += abs(edr_est_3[0] / edr_est_3[1] - a1/a2)\n",
    "    prediction_mse_1_3 += MSE(X2 @ edr_est_3, y[0])\n",
    "    proj_error_1_3 += np.linalg.norm((proj(edr_est_3) - proj(True_projection_p)), 'fro')**2\n",
    "\n",
    "    n1 += 1\n",
    "\n",
    "error_1_2 = ave(error_1_2, n_rep)\n",
    "error_1_3 = error_1_3/n_rep"
   ]
  },
  {
   "cell_type": "code",
   "execution_count": 85,
   "id": "679431e9-dc11-4908-baf0-974e1522505f",
   "metadata": {},
   "outputs": [
    {
     "data": {
      "text/plain": [
       "array([ 0.43848314,  0.52013094,  0.01398793, -0.00101618])"
      ]
     },
     "execution_count": 85,
     "metadata": {},
     "output_type": "execute_result"
    }
   ],
   "source": [
    "average_edr_est"
   ]
  },
  {
   "cell_type": "code",
   "execution_count": 86,
   "id": "77a49fc2-670b-48bf-8736-2563e08d94fd",
   "metadata": {},
   "outputs": [
    {
     "data": {
      "text/plain": [
       "array([[ 0.61553297],\n",
       "       [ 0.5949419 ],\n",
       "       [ 0.01607944],\n",
       "       [ 0.006191  ],\n",
       "       [ 0.26143331],\n",
       "       [ 0.44531999],\n",
       "       [ 0.01189641],\n",
       "       [-0.00822335]])"
      ]
     },
     "execution_count": 86,
     "metadata": {},
     "output_type": "execute_result"
    }
   ],
   "source": [
    "# True_projection_2p = np.array([[2],[3],[0],[0],[2],[3],[0],[0]])/((np.linalg.norm(np.array([[2],[3],[0],[0],[2],[3],[0],[0]]))))\n",
    "edr_est"
   ]
  },
  {
   "cell_type": "code",
   "execution_count": 87,
   "id": "dca6efcf-4034-4360-bd25-adb0f4e77ee7",
   "metadata": {},
   "outputs": [
    {
     "data": {
      "text/plain": [
       "[array([5.20692684]),\n",
       " array([0.89550178]),\n",
       " array([0.87719042]),\n",
       " array([0.91310142]),\n",
       " array([0.91255364]),\n",
       " array([0.91244411]),\n",
       " array([0.91286836]),\n",
       " array([0.91344171]),\n",
       " array([0.91368023]),\n",
       " array([0.9139301])]"
      ]
     },
     "execution_count": 87,
     "metadata": {},
     "output_type": "execute_result"
    }
   ],
   "source": [
    "error_1_2"
   ]
  },
  {
   "cell_type": "code",
   "execution_count": 88,
   "id": "4cc1d29c-5567-4a56-b80b-d7deb128b10a",
   "metadata": {},
   "outputs": [
    {
     "data": {
      "text/plain": [
       "array([0.28573143])"
      ]
     },
     "execution_count": 88,
     "metadata": {},
     "output_type": "execute_result"
    }
   ],
   "source": [
    "error_1_3"
   ]
  },
  {
   "cell_type": "code",
   "execution_count": null,
   "id": "3b5d0605-199f-4b6e-8b36-05a323cf2aac",
   "metadata": {},
   "outputs": [],
   "source": []
  },
  {
   "cell_type": "code",
   "execution_count": null,
   "id": "631e3ee3-127c-4c09-9d21-c14f09564b4c",
   "metadata": {},
   "outputs": [],
   "source": []
  },
  {
   "cell_type": "code",
   "execution_count": 77,
   "id": "a155857d-be41-4265-91ed-19fec9808896",
   "metadata": {},
   "outputs": [
    {
     "data": {
      "text/plain": [
       "array([0.11322715])"
      ]
     },
     "execution_count": 77,
     "metadata": {},
     "output_type": "execute_result"
    }
   ],
   "source": [
    "(ar_coeff[0][0]*edr_est[0] + ar_coeff[0][1]*edr_est[1])/2"
   ]
  },
  {
   "cell_type": "code",
   "execution_count": 78,
   "id": "0dc2fb7e-da78-46b3-9273-1aaa85f119ac",
   "metadata": {},
   "outputs": [
    {
     "data": {
      "text/plain": [
       "array([0.00243752])"
      ]
     },
     "execution_count": 78,
     "metadata": {},
     "output_type": "execute_result"
    }
   ],
   "source": [
    "(ar_coeff[1][0]*edr_est[4] + ar_coeff[1][1]*edr_est[5])/2"
   ]
  },
  {
   "cell_type": "code",
   "execution_count": null,
   "id": "53b330e8-1178-4993-b90f-49814657f2fb",
   "metadata": {},
   "outputs": [],
   "source": []
  },
  {
   "cell_type": "markdown",
   "id": "8162578c-a02e-4673-819b-2dc9d9c5aef9",
   "metadata": {},
   "source": [
    "## True_projection_2p = np.array([[2],[3],[0],[0],[0],[0],[0],[0]])"
   ]
  },
  {
   "cell_type": "code",
   "execution_count": 64,
   "id": "a1339d98-2684-42b9-babe-2a7dfb5f8bb5",
   "metadata": {},
   "outputs": [],
   "source": [
    "#add risk to be averaged over replicas, add prediction error for obj2 for averaged direction\n",
    "from tabulate import tabulate\n",
    "import numpy as np\n",
    "from sklearn.preprocessing import StandardScaler\n",
    "import matplotlib.pyplot as plt\n",
    "from sklearn.model_selection import train_test_split\n",
    "from sklearn.linear_model import LinearRegression\n",
    "from sklearn.metrics import mean_squared_error, mean_absolute_error\n",
    "def ave(arr, N):\n",
    "    for i in range(len(arr)):\n",
    "        arr[i] = arr[i]/N \n",
    "    return arr \n",
    "def compute_eigen(Q4, P, K):\n",
    "    eigenvalues2, eigenvectors2 = np.linalg.eig(Q4)\n",
    "    K_index = np.argpartition(np.abs(eigenvalues2), P - K) >= P - K\n",
    "    K_largest_eigenvectors = eigenvectors2[:, K_index]\n",
    "    edr_est = K_largest_eigenvectors  \n",
    "    if edr_est[0] < 0:\n",
    "        edr_est = -edr_est\n",
    "    edr_est = edr_est / np.linalg.norm(edr_est)\n",
    "    return edr_est\n",
    "    \n",
    "def proj(edr_est): \n",
    "    E = edr_est @ np.linalg.inv(edr_est.T @ edr_est) @ edr_est.T\n",
    "    return E\n",
    "\n",
    "def exhi(obj1):        \n",
    "    array1 = np.vectorize(lambda x: f\"{x:.6f}\")(obj1)\n",
    "    table = tabulate(array1, tablefmt='latex_raw')\n",
    "    # Split the table into lines\n",
    "    lines = table.split('\\n')\n",
    "    # Insert \\hline after each row\n",
    "    latex_table = '\\n'.join([line + (' \\\\hline' if (idx > 1) else '') for idx, line in enumerate(lines)])\n",
    "    print(latex_table)\n",
    "    \n",
    "def MSE(X, y):\n",
    "    # Split data into training and test sets\n",
    "    X_train, X_test, y_train, y_test = train_test_split(X, y, test_size=0.2, random_state=42)\n",
    "    # Create and train the model\n",
    "    model = LinearRegression()\n",
    "    model.fit(X_train, y_train)\n",
    "    # Make predictions\n",
    "    y_pred = model.predict(X_test)\n",
    "    # Calculate errors\n",
    "    mse = mean_squared_error(y_test, y_pred)\n",
    "    return mse\n",
    "\n",
    "def TestAR5(ar_coeff, a1, a2, initial_value, n_gene, n_obs, H, S, n_rep):\n",
    "    ARnum = 2; num_N = 5;P = 4;K = 1;n1 = 0;l = 1; p = 2; P1 = 2*P; AR = initial_value\n",
    "    noise1 = np.zeros((num_N, n_gene))\n",
    "    noise2 = np.zeros((num_N, n_obs+S+3))\n",
    "    y = [np.zeros((num_N, n_obs+i)) for i in range(S)]\n",
    "    X1 = [[np.zeros((num_N, 2*n_obs)) for i in range(P)] for i in range(S)]\n",
    "    obj_1 = [np.zeros((P, 1)) for _ in range(S)]  \n",
    "    obj_2 = [np.zeros((P1, 1)) for _ in range(S)]  \n",
    "    \n",
    "    prediction_mse_1_1 = [np.zeros((1, 1)) for _ in range(S)]\n",
    "    prediction_mse_1_2 = [np.zeros((1, 1)) for _ in range(S)]\n",
    "    \n",
    "    prediction_mse_2 = [np.zeros((1, 1)) for _ in range(S)]\n",
    "    M = [np.zeros((P, 1)) for _ in range(S)] \n",
    "    proj_error_1_1 = [np.zeros((1, )) for _ in range(S)] \n",
    "    proj_error_1_2 = [np.zeros((1, )) for _ in range(S)]\n",
    "    \n",
    "    proj_error_2 = [np.zeros((1, )) for _ in range(S)] \n",
    "    # error_1_1 is for dim 2p, error_1_2 is for dim p\n",
    "    error_1_1 = [np.zeros((1, )) for _ in range(S)]\n",
    "    error_1_2 = [np.zeros((1, )) for _ in range(S)]\n",
    "    \n",
    "    error_2 = [np.zeros((1, )) for _ in range(S)]\n",
    "    g = np.zeros((S, 1))\n",
    "    g1 = np.zeros((S, 1))\n",
    "    g2 = np.zeros((S, 1))\n",
    "    projection_1_norm = np.zeros((S, 1))\n",
    "    projection_2_norm = np.zeros((S, 1))\n",
    "    # True_projection for 2p and p\n",
    "    # True_projection_2p = np.array([[2],[3],[0],[0],[2],[3],[0],[0]])/((np.linalg.norm(np.array([[2],[3],[0],[0],[2],[3],[0],[0]]))))\n",
    "    True_projection_2p = np.array([[2],[3],[0],[0],[0],[0],[0],[0]])/((np.linalg.norm(np.array([[2],[3],[0],[0],[0],[0],[0],[0]]))))\n",
    "    True_projection_p = np.array([[2],[3],[0],[0]])/((np.linalg.norm(np.array([[2],[3],[0],[0]]))))\n",
    "    \n",
    "    obj_2_avevec = [np.zeros((P1, 1)) for _ in range(S)]\n",
    "    obj2_ave = np.zeros((P1, 1))\n",
    "\n",
    "    error_1_3 = 0\n",
    "    prediction_mse_1_3 = 0\n",
    "    proj_error_1_3 = 0\n",
    "    \n",
    "    exhi_1 = [np.zeros((P, 1)) for _ in range(S)]\n",
    "    exhi_2 = [np.zeros((P, 1)) for _ in range(S)]\n",
    "    while n1 < n_rep:  \n",
    "        obj_2 = [np.zeros((P1, 1)) for _ in range(S)]\n",
    "        obj_2_avevec = [np.zeros((P1, 1)) for _ in range(S)]\n",
    "        # Data Generation\n",
    "        for h in range(num_N):\n",
    "            noise1[h] = np.random.normal(0, 1, size=(n_gene)) \n",
    "            noise2[h] = np.random.normal(0, 1, size=(n_obs+S+3))\n",
    "            # noise[h] = np.random.normal(0, 0.5, size=(n_obs+S))\n",
    "        ar_series = np.zeros((num_N, n_obs+S+3))\n",
    "        # change initial value and burn-off?\n",
    "        ############################################################### \n",
    "        for t in range(1, n_gene + 1):\n",
    "            for i in range(4):\n",
    "                AR_temp = np.array([ar_coeff[0][i], ar_coeff[1][i]]) @ np.array([AR[i][0], AR[i][1]]) + noise1[i][t-1]\n",
    "                AR[i][1] = AR[i][0]\n",
    "                AR[i][0] = AR_temp\n",
    "        for i in range(4):\n",
    "            for k in range(p):\n",
    "                ar_series[i][k] = AR[i][k]\n",
    "        for t in range(2, n_obs+S+3):\n",
    "            for i in range(4):\n",
    "                ar_series[i][t] = np.array([ar_coeff[0][i], ar_coeff[1][i]]) @ np.array([ar_series[i][t - 1], ar_series[i][t - 2]]) + noise2[i][t]\n",
    "            ar_series[4][t] = a1 * ar_series[0][t] + a2 * ar_series[1][t] + noise2[4][t]\n",
    "        \n",
    "        for a in range(2, S+2):\n",
    "            y[a-2] = ar_series[4][a:n_obs+a]\n",
    "            X1[a-2] = np.concatenate((np.array([ar_series[i][a-1:n_obs+a-1] for i in range(P)]), np.array([ar_series[i][a-2:n_obs+a-2] for i in range(P)])), axis = 0).T #.reshape(-1,1)\n",
    "        # X = np.concatenate((np.array([ar_series[i][2:n_obs+2] for i in range(P)]), np.array([ar_series[i][1:n_obs+1] for i in range(P)])), axis = 0).T\n",
    "        ################################################################\n",
    "        # original data generation\n",
    "        # for t in range(0, n_obs+S):\n",
    "        #     ar_series[0][t] = ar_coeff[0] * ar_series[0][t - 1] + noise[0][t]\n",
    "        #     ar_series[1][t] = ar_coeff[1] * ar_series[1][t - 1] + noise[1][t]\n",
    "        #     ar_series[2][t] = ar_coeff[2] * ar_series[2][t - 1] + noise[2][t]\n",
    "        #     ar_series[3][t] = ar_coeff[3] * ar_series[3][t - 1] + noise[3][t]\n",
    "        #     ar_series[4][t] = a1 * ar_series[0][t] + a2 * ar_series[1][t] + noise[4][t]\n",
    "        # for a in range(0, S):\n",
    "        #     y[a] = ar_series[4][a:n_obs+a]\n",
    "        #     X1[a] = np.concatenate([ar_series[i][a:n_obs+a].reshape(-1, 1) for i in range(P)], axis = 1)\n",
    "        X = X1[0]\n",
    "        V1 = []\n",
    "        for a in range(0, S):\n",
    "            _, M = sir_11(X, y[a], H, K)\n",
    "            V1.append(M)\n",
    "    # objective 1: experiment\n",
    "        X2 = np.concatenate((np.array([ar_series[i][2:n_obs+2].reshape(n_obs, 1) for i in range(P)])), axis = 1)\n",
    "        for q in range(0, S):\n",
    "            phi = ar_coeff[0] + ar_coeff[1]\n",
    "            Q3 = np.zeros((P1, P1))\n",
    "            for j in range(P1):\n",
    "                for k in range(P1):\n",
    "                    Q3[j, k] = sum((phi[j] ** a) * (np.linalg.inv(np.cov(X.T)) @ V1[a] @ np.linalg.inv(np.cov(X.T)))[j, k] * (phi[k] ** a) for a in range(0, q + 1))\n",
    "            \n",
    "            # Method 1: dimension 2p \n",
    "            edr_est = compute_eigen(Q3, P1, K)\n",
    "            if edr_est[0] < 0:\n",
    "                edr_est = -edr_est\n",
    "            # for i in range(ARnum):\n",
    "            #     edr_est[i*P] = edr_est[i*P]/ar_coeff[i][0]\n",
    "            #     edr_est[i*P + 1] = edr_est[i*P + 1]/ar_coeff[i][1]\n",
    "            edr_est = np.real(edr_est / np.linalg.norm(edr_est))\n",
    "            error_1_1[q] += abs(edr_est[0] / edr_est[1] - a1/a2)\n",
    "            prediction_mse_1_1[q] += MSE(X @ edr_est, y[0]) \n",
    "            proj_error_1_1[q] += np.linalg.norm((proj(edr_est) - proj(True_projection_2p)), 'fro')**2\n",
    "            \n",
    "            # Method 2: additional step, dimension p, average every p dimensional vector. \n",
    "            # average_edr_est = np.mean(edr_est.reshape(-1, P), axis=0)\n",
    "            # error_1_2[q] += abs(average_edr_est[0] / average_edr_est[1] - a1/a2)\n",
    "            # prediction_mse_1_2[q] += MSE((X2 @ average_edr_est).reshape(-1,1), y[0])\n",
    "            # proj_error_1_2[q] += np.linalg.norm((proj((average_edr_est).reshape(-1,1)) - proj(True_projection_p)), 'fro')**2\n",
    "        \n",
    "        # Method 3: q = 0 use cross-sectional data X_t y_t, q = 0\n",
    "        # edr_est_3, _ = sir_11(X2, y[0], H, K)\n",
    "        # if edr_est_3[0] < 0:\n",
    "        #     edr_est_3 = -edr_est_3\n",
    "        # edr_est_3 = np.real(edr_est_3 / np.linalg.norm(edr_est_3))\n",
    "        # error_1_3 += abs(edr_est_3[0] / edr_est_3[1] - a1/a2)\n",
    "        # prediction_mse_1_3 += MSE(X2 @ edr_est_3, y[0])\n",
    "        # proj_error_1_3 += np.linalg.norm((proj(edr_est_3) - proj(True_projection_p)), 'fro')**2\n",
    "                \n",
    "        n1 += 1  \n",
    "        \n",
    "    error_1_1 = ave(error_1_1, n_rep)    \n",
    "    error_1_2 = ave(error_1_2, n_rep)\n",
    "    error_1_3 = error_1_3/n_rep\n",
    "    prediction_mse_1_1 = ave(prediction_mse_1_1, n_rep)\n",
    "    prediction_mse_1_2 = ave(prediction_mse_1_2, n_rep)\n",
    "    prediction_mse_1_3 = prediction_mse_1_3/n_rep\n",
    "    proj_error_1_1 = ave(proj_error_1_1, n_rep)\n",
    "    proj_error_1_2 = ave(proj_error_1_2, n_rep)       \n",
    "    proj_error_1_3 = proj_error_1_3/n_rep\n",
    "    \n",
    "    index_array = list(range(len(obj_1)))\n",
    "    for i in range(S):\n",
    "        exhi_1[i] = prediction_mse_1_1[i]\n",
    "        exhi_1[i] = np.vstack((exhi_1[i], proj_error_1_1[i]))\n",
    "        exhi_1[i] = np.vstack((np.array([[index_array[i]]]), exhi_1[i]))\n",
    "    \n",
    "    # for i in range(S):\n",
    "    #     exhi_2[i] = error_1_2[i]\n",
    "    #     exhi_2[i] = np.vstack((exhi_2[i], proj_error_1_2[i]))\n",
    "    #     exhi_2[i] = np.vstack((exhi_2[i], prediction_mse_1_2[i]))\n",
    "    #     exhi_2[i] = np.vstack((np.array([[index_array[i]]]), exhi_2[i]))\n",
    "    \n",
    "    #     obj_1[i] = np.vstack((obj_1[i], g[i].reshape(1,-1)))\n",
    "    #     obj_1[i] = np.vstack((np.array([[index_array[i]]]), obj_1[i])) \n",
    "    #     obj_1[i] = np.vstack((np.array(obj_1[i]), proj_error_1[i])) \n",
    "    #     obj_1[i] = np.vstack((np.array(obj_1[i]), mse[i]))\n",
    "      \n",
    "    #objective 1: exhibition\n",
    "    # for i in range(S):\n",
    "    #     g[i] = abs(obj_1[i][0] / obj_1[i][1] - a1/a2)\n",
    "    #     obj_1[i] = np.vstack((obj_1[i], g[i].reshape(1,-1)))\n",
    "    #     obj_1[i] = np.vstack((np.array([[index_array[i]]]), obj_1[i])) \n",
    "    #     obj_1[i] = np.vstack((np.array(obj_1[i]), proj_error_1[i])) \n",
    "    #     obj_1[i] = np.vstack((np.array(obj_1[i]), mse[i]))\n",
    "        \n",
    "    # Result1 = [g[0] - min(g), projection1_norm[0] - min(projection1_norm), mse[0] - min(mse)]\n",
    "    # Result1 = [x.item() for x in Result1]\n",
    "        \n",
    "    #objective 2: exhibition\n",
    "    \n",
    "    # for i in range(S):\n",
    "    #     g[i] = abs(obj2[i][0] / obj2[i][1] - a1/a2)\n",
    "    #     projection2_norm[i] = np.linalg.norm(proj2[i] - proj(True_projection), 'fro')\n",
    "    #     obj2[i] = np.vstack((obj_2_avevec[i], g[i].reshape(1,-1)))\n",
    "    #     obj2[i] = np.vstack((np.array([[index_array[i]]]), obj_2_avevec[i]))    \n",
    "    #     obj2[i] = np.vstack((np.array(obj2[i]), projection2_norm[i]))\n",
    "    #     obj2[i] = np.vstack((np.array(obj2[i]), mse2[i]))\n",
    "    #     obj2[i] = np.vstack((np.array(obj2[i]), abs(obj_2_avevec[i][0]/obj_2_avevec[i][1] - 2/3)))\n",
    "    #     obj2[i] = np.vstack((np.array(obj2[i]), np.linalg.norm(proj(obj_2_avevec[i]) - proj(True_projection), 'fro')))\n",
    "    #     obj2[i] = np.vstack((np.array(obj2[i]), Mse1(X @ obj_2_avevec[i], y[0])))\n",
    "    \n",
    "    # for i in range(S):\n",
    "    #     g[i] = abs(obj_2_avevec[i][0] / obj_2_avevec[i][1] - a1/a2)\n",
    "    #     g1[i] = proj_error_2[i]\n",
    "    #     g2[i] = Mse1(X @ obj_2_avevec[i], y[0])\n",
    "    #     obj_2_avevec[i] = np.vstack((obj_2_avevec[i], g[i].reshape(1,-1)))\n",
    "    #     obj_2_avevec[i] = np.vstack((np.array([[index_array[i]]]), obj_2_avevec[i]))    \n",
    "    #     obj_2_avevec[i] = np.vstack((obj_2_avevec[i], g1[i]))\n",
    "    #     obj_2_avevec[i] = np.vstack((obj_2_avevec[i], g2[i]))\n",
    "    \n",
    "    # Result2 = [g[0] - min(g), g1[0] - min(g1), g2[0] - min(g2)] \n",
    "    # Result2 = [x.item() for x in Result2]\n",
    "    \n",
    "    # print(\"error_1:\",[x.item() for x in error_1])\n",
    "    # print(\"error_2:\",[x.item() for x in error_2])\n",
    "    # print(\"proj_error_1:\",[x.item() for x in proj_error_1]) \n",
    "    # print(\"proj_error_2:\",[x.item() for x in proj_error_2])\n",
    "    \n",
    "    # print(obj_2_avevec)\n",
    "    # print(obj_2)\n",
    "    # print(\"Obj1\")\n",
    "    # exhi(obj1) \n",
    "    # print(\"Obj2\")\n",
    "    # exhi(obj_2_avevec)\n",
    "    # print(Result1), print(Result2)\n",
    "    # return obj_2_avevec\n",
    "    print(\"Obj1 Method 1\")\n",
    "    exhi(exhi_1)\n",
    "    # print(\"Obj1 Method 2\")\n",
    "    # exhi(exhi_2)\n",
    "    # # print(\"Obj1 Method 3\")\n",
    "    # return error_1_3, proj_error_1_3, prediction_mse_1_3\n",
    "    return error_1_1"
   ]
  },
  {
   "cell_type": "code",
   "execution_count": 65,
   "id": "c420a036-c82c-4c4d-bf95-dbc6a3ab4182",
   "metadata": {},
   "outputs": [
    {
     "name": "stdout",
     "output_type": "stream",
     "text": [
      "Obj1 Method 1\n",
      "\\begin{tabular}{rrr}\n",
      "\\hline\n",
      " 0 & 14.0099 & 1.05609  \\\\ \\hline\n",
      " 1 & 14.0137 & 0.982861 \\\\ \\hline\n",
      " 2 & 14.0183 & 0.983874 \\\\ \\hline\n",
      " 3 & 14.0239 & 0.984811 \\\\ \\hline\n",
      " 4 & 14.0289 & 0.985453 \\\\ \\hline\n",
      " 5 & 14.0327 & 0.985878 \\\\ \\hline\n",
      " 6 & 14.0353 & 0.986165 \\\\ \\hline\n",
      " 7 & 14.0371 & 0.986352 \\\\ \\hline\n",
      " 8 & 14.0384 & 0.986482 \\\\ \\hline\n",
      " 9 & 14.0392 & 0.986563 \\\\ \\hline\n",
      "\\hline \\hline\n",
      "\\end{tabular} \\hline\n"
     ]
    },
    {
     "data": {
      "text/plain": [
       "[array([0.23835255]),\n",
       " array([0.23426188]),\n",
       " array([0.23484006]),\n",
       " array([0.23488487]),\n",
       " array([0.23494548]),\n",
       " array([0.23500488]),\n",
       " array([0.23505096]),\n",
       " array([0.23507496]),\n",
       " array([0.23509776]),\n",
       " array([0.23511164])]"
      ]
     },
     "execution_count": 65,
     "metadata": {},
     "output_type": "execute_result"
    }
   ],
   "source": [
    "ar_coeff = [[0.2, 0.3, 0.3, 0.2], [0.2, 0.3, 0.5, 0.8]]\n",
    "initial_value = [[0,0],[0,0],[0,0],[0,0]]\n",
    "TestAR5(ar_coeff, 2, 3, initial_value, 10000, 1000, 50, 10, 100)"
   ]
  },
  {
   "cell_type": "code",
   "execution_count": 66,
   "id": "01c33659-337c-496a-8599-2c94e093f9cf",
   "metadata": {},
   "outputs": [
    {
     "name": "stdout",
     "output_type": "stream",
     "text": [
      "Obj1 Method 1\n",
      "\\begin{tabular}{rrr}\n",
      "\\hline\n",
      " 0 & 14.0314 & 1.56713 \\\\ \\hline\n",
      " 1 & 14.0632 & 1.65987 \\\\ \\hline\n",
      " 2 & 14.0735 & 1.67973 \\\\ \\hline\n",
      " 3 & 14.0789 & 1.69075 \\\\ \\hline\n",
      " 4 & 14.0817 & 1.69801 \\\\ \\hline\n",
      " 5 & 14.0877 & 1.70335 \\\\ \\hline\n",
      " 6 & 14.0898 & 1.70654 \\\\ \\hline\n",
      " 7 & 14.0908 & 1.70847 \\\\ \\hline\n",
      " 8 & 14.0915 & 1.70963 \\\\ \\hline\n",
      " 9 & 14.092  & 1.71037 \\\\ \\hline\n",
      "\\hline \\hline\n",
      "\\end{tabular} \\hline\n"
     ]
    },
    {
     "data": {
      "text/plain": [
       "[array([10.48858351]),\n",
       " array([2.67586757]),\n",
       " array([1.81047263]),\n",
       " array([1.76614362]),\n",
       " array([2.03154686]),\n",
       " array([2.62981592]),\n",
       " array([1.95008801]),\n",
       " array([1.87559938]),\n",
       " array([1.84111142]),\n",
       " array([1.83054317])]"
      ]
     },
     "execution_count": 66,
     "metadata": {},
     "output_type": "execute_result"
    }
   ],
   "source": [
    "ar_coeff = [[0.1, 0.1, 0.3, 0.2], [0.1, 0.1, 0.5, 0.8]]\n",
    "initial_value = [[0,0],[0,0],[0,0],[0,0]]\n",
    "TestAR5(ar_coeff, 2, 3, initial_value, 10000, 1000, 50, 10, 100)"
   ]
  },
  {
   "cell_type": "code",
   "execution_count": null,
   "id": "286624ef-0492-4618-8331-32813538c709",
   "metadata": {},
   "outputs": [],
   "source": []
  },
  {
   "cell_type": "code",
   "execution_count": null,
   "id": "bf8ccd06-e260-452c-98fb-453c2d32b15e",
   "metadata": {},
   "outputs": [],
   "source": []
  },
  {
   "cell_type": "code",
   "execution_count": null,
   "id": "7c8752a0-2851-4945-9911-f669bb6be0f5",
   "metadata": {},
   "outputs": [],
   "source": []
  },
  {
   "cell_type": "code",
   "execution_count": null,
   "id": "9290d308-bbda-4e8a-b5fe-a78adc53701a",
   "metadata": {},
   "outputs": [],
   "source": []
  },
  {
   "cell_type": "code",
   "execution_count": null,
   "id": "c281adbb-ef48-48c0-930a-ee1c745961b8",
   "metadata": {},
   "outputs": [],
   "source": []
  },
  {
   "cell_type": "code",
   "execution_count": null,
   "id": "89c58c82-1261-491a-8297-4b7c1ae3367f",
   "metadata": {},
   "outputs": [],
   "source": []
  },
  {
   "cell_type": "code",
   "execution_count": null,
   "id": "92187fa2-7906-48c0-a932-6caa729b788a",
   "metadata": {},
   "outputs": [],
   "source": []
  },
  {
   "cell_type": "code",
   "execution_count": null,
   "id": "3f2fb584-d477-4bc0-9f52-3ba8df7aa95b",
   "metadata": {},
   "outputs": [],
   "source": []
  },
  {
   "cell_type": "code",
   "execution_count": null,
   "id": "d005db36-beec-4ba8-90f1-a167691d8429",
   "metadata": {},
   "outputs": [],
   "source": []
  },
  {
   "cell_type": "code",
   "execution_count": null,
   "id": "c1779eef-8745-4019-9ea0-5310ae02cc7c",
   "metadata": {},
   "outputs": [],
   "source": []
  },
  {
   "cell_type": "code",
   "execution_count": null,
   "id": "f31a2700-10c3-4c7a-85e1-9fe03773cbba",
   "metadata": {},
   "outputs": [],
   "source": []
  },
  {
   "cell_type": "code",
   "execution_count": null,
   "id": "a91b923a-6ac0-4e20-afc3-b981ec88a599",
   "metadata": {},
   "outputs": [],
   "source": []
  },
  {
   "cell_type": "code",
   "execution_count": null,
   "id": "a7e864f7-664f-4b11-9695-1afe8c4df149",
   "metadata": {},
   "outputs": [],
   "source": []
  },
  {
   "cell_type": "code",
   "execution_count": null,
   "id": "2c219e2e-afa6-4efb-9f3d-1355465c2676",
   "metadata": {},
   "outputs": [],
   "source": []
  },
  {
   "cell_type": "code",
   "execution_count": null,
   "id": "953823b7-9f07-4137-8321-5a13a8168e95",
   "metadata": {},
   "outputs": [],
   "source": []
  },
  {
   "cell_type": "code",
   "execution_count": null,
   "id": "cda3565f-948b-4d17-b4ab-f7e3e4d0784d",
   "metadata": {},
   "outputs": [],
   "source": []
  },
  {
   "cell_type": "code",
   "execution_count": null,
   "id": "62372ee7-5798-465b-99ac-302d055664dc",
   "metadata": {},
   "outputs": [],
   "source": []
  },
  {
   "cell_type": "code",
   "execution_count": null,
   "id": "b6027399-dc02-42f1-b8f7-7d94b4e7c6f5",
   "metadata": {},
   "outputs": [],
   "source": []
  },
  {
   "cell_type": "code",
   "execution_count": null,
   "id": "dbb0c1c2-b0a3-406c-b1b3-8d1d3117f87c",
   "metadata": {},
   "outputs": [],
   "source": []
  },
  {
   "cell_type": "code",
   "execution_count": null,
   "id": "3ff54058-58c9-4ca9-8048-64a9f8f7bf12",
   "metadata": {},
   "outputs": [],
   "source": []
  },
  {
   "cell_type": "code",
   "execution_count": null,
   "id": "374b900d-a419-4563-b482-0a85d32716cd",
   "metadata": {},
   "outputs": [],
   "source": []
  },
  {
   "cell_type": "code",
   "execution_count": null,
   "id": "f32a9d22-f78c-42c0-9308-b2e067f9860a",
   "metadata": {},
   "outputs": [],
   "source": []
  },
  {
   "cell_type": "code",
   "execution_count": null,
   "id": "c40078e7-6328-4901-bdd5-9a405f44580a",
   "metadata": {},
   "outputs": [],
   "source": []
  },
  {
   "cell_type": "code",
   "execution_count": null,
   "id": "1523c3af-1bd4-4c25-80b4-ed3ef879ff9e",
   "metadata": {},
   "outputs": [],
   "source": []
  },
  {
   "cell_type": "code",
   "execution_count": null,
   "id": "87719537-ab6e-4451-9640-f39b738c73ba",
   "metadata": {},
   "outputs": [],
   "source": []
  },
  {
   "cell_type": "code",
   "execution_count": null,
   "id": "a0df7705-aa62-48f6-b5b9-495cc4370423",
   "metadata": {},
   "outputs": [],
   "source": []
  },
  {
   "cell_type": "code",
   "execution_count": null,
   "id": "a7513089-91b6-4f8c-ab3c-17fba11de114",
   "metadata": {},
   "outputs": [],
   "source": []
  },
  {
   "cell_type": "code",
   "execution_count": null,
   "id": "d9618615-2f8e-4d57-a005-bb8b151c7785",
   "metadata": {},
   "outputs": [],
   "source": []
  },
  {
   "cell_type": "code",
   "execution_count": null,
   "id": "e773258c-f928-44b9-8dac-af240447f69e",
   "metadata": {},
   "outputs": [],
   "source": []
  },
  {
   "cell_type": "code",
   "execution_count": null,
   "id": "40450643-3bb2-4d3c-bf09-b9d3956fd200",
   "metadata": {},
   "outputs": [],
   "source": []
  },
  {
   "cell_type": "code",
   "execution_count": null,
   "id": "6eb82bb2-8d87-4043-ab66-fc6286edd86f",
   "metadata": {},
   "outputs": [],
   "source": []
  },
  {
   "cell_type": "code",
   "execution_count": null,
   "id": "d003e464-a3ea-4813-915c-cef3c6d02d89",
   "metadata": {},
   "outputs": [],
   "source": []
  }
 ],
 "metadata": {
  "kernelspec": {
   "display_name": "Python 3 (ipykernel)",
   "language": "python",
   "name": "python3"
  },
  "language_info": {
   "codemirror_mode": {
    "name": "ipython",
    "version": 3
   },
   "file_extension": ".py",
   "mimetype": "text/x-python",
   "name": "python",
   "nbconvert_exporter": "python",
   "pygments_lexer": "ipython3",
   "version": "3.12.0"
  }
 },
 "nbformat": 4,
 "nbformat_minor": 5
}
